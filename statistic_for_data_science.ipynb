{
 "cells": [
  {
   "cell_type": "markdown",
   "id": "fc824e07-a7f7-46b9-83c0-c81f0a2e3c6b",
   "metadata": {},
   "source": [
    "### VERİ BİLİMİ İÇİN İSTATİSTİK"
   ]
  },
  {
   "cell_type": "markdown",
   "id": "b4f94ef6-9c3b-4fc3-b795-1a15cf9d6b4c",
   "metadata": {},
   "source": [
    "#### Popülasyon ve Örneklem / Gözlem Birimi / Değişken ve Değişken Türleri / Ölçek Türleri\n",
    "\n",
    "##### Population and Sample \n",
    "Popülasyon: İlgilendiğimiz ana kitledir. \n",
    "Örneklem: Ana kitle içinden seçilen bir alt kümedir. \n",
    "\n",
    "##### Observation Unit / Gözlem birimi \n",
    "Alt kümenin(Örneklem) içindeki her bir eleman gözlem birimi olarak adlandırılır.\n",
    "\n",
    "##### Variables and Variable / Değişkenler ve Değişken Türleri\n",
    "Değişken: Birimden birime farklı değerken alan niceliktir.\n",
    "Değişken Türleri: Sayısal(nicel, kantitatif), Kategorik(nitel, kalitatif)\n",
    "\n",
    "##### Scales of Measurement / Ölçek Türleri \n",
    "Sayısal değişkenler için : Aralık (Interval) ve Oran (Ratio)\n",
    "Kategorik değişkenler için: Nominal ve Ordinal \n"
   ]
  },
  {
   "cell_type": "markdown",
   "id": "9439c647-8997-4a0f-913a-35fcaa0acec6",
   "metadata": {},
   "source": [
    "### Merkezi Eğilim Ölçüleri \n",
    "\n",
    "#### Arithmetic Mean / Aritmetik Ortalama\n",
    "\n",
    "Bir seride yer alan tüm değerlerin toplanması ve birim sayısına bölünmesi ile elde edilen istatistiktir. \n",
    "\n",
    "## $ \\overline x = \\sum_{i=1}^n \\frac{x_i} {n} $ \n"
   ]
  },
  {
   "cell_type": "markdown",
   "id": "c35d36a9-7b75-40f9-bc57-4bef23f4acc0",
   "metadata": {},
   "source": [
    "#### Median / Medyan \n",
    "\n",
    "Bir seriyi küçükten büyüğe veya büyükten küçüğe sıraladığımızda tam orta noktada seriyi iki eşit parçaya ayıran değere medyan adı verilir. \n",
    "\n",
    "n tek ise: \n",
    "\n",
    "### $ Medyan = (\\frac{n+1}{2}).terim $ \n",
    "\n",
    "n çift ise: \n",
    "\n",
    "### $ Medyan = \\frac {(\\frac{n}{2}).terim + (\\frac{n}{2} + 1 ).terim}{2} $ "
   ]
  },
  {
   "cell_type": "markdown",
   "id": "cf18de0f-0ec7-430c-a36a-0b86c4553ce3",
   "metadata": {},
   "source": [
    "#### Mode / Mod\n",
    "\n",
    "Bir seride en çok tekrar eden değere Mod adı verilir. \n",
    "\n",
    "Örnek: 15, 35, 25, 25, 40, 15, 30, 15, 28, 15 \n",
    "Mod: 15"
   ]
  },
  {
   "cell_type": "markdown",
   "id": "88a95637-506f-40d1-9b20-8a4c2c7d6419",
   "metadata": {},
   "source": [
    "#### Quartiles Kartiller\n",
    "\n",
    "Küçükten büyüğe sıralanan bir seriyi 4 parçaya ayıran değerlere kartiller denir. \n",
    "\n",
    "#### $ Q_1 = \\frac{1}{4}(n+1).terim $ \n",
    "#### $ Q_3 = \\frac{3}{4}(n+1).terim $ \n",
    "#### $ Q_2 = Q_3 - Q1 $\n",
    "\n",
    "\n"
   ]
  },
  {
   "cell_type": "markdown",
   "id": "3cfdbee5-51fd-483a-99af-6ce96c283abd",
   "metadata": {},
   "source": [
    "### Dağılım Ölçüleri / Measures of Dispersion \n",
    "Elimizdeki değişkenin değerlerinin ne şekilde dağıldığını anlamak için kullanılan ölçülerdir. \n",
    "\n",
    "#### Değişim Aralığı / Range \n",
    "Bir serideki maksimum değerden minimum değeri çıkardığımızda elde edilen değerdir. \n",
    "\n",
    "Değişim Aralığı = Maksimum Değer - Minimum Değer\n",
    "\n",
    "#### Standart Sapma / Standard Deviation\n",
    "Ortalamadan olan sapmaların genel bir ölçüsüdür. \n",
    "\n",
    "### $ s = \\sqrt { \\frac{1}{n} \\sum_{i=1}^n (x_i-\\overline x)^2 }$ \n",
    "\n",
    "#### Varyans / Variance \n",
    "Standart sapmanın karesidir. Ortalamadan olan sapmaların karelerinin ortalamasıdır. \n",
    "\n",
    "### $ s^2 = \\frac{1}{n} \\sum_{i=1}^n (x_i-\\overline x)^2 $ \n",
    "\n",
    "#### Çarpıklık / Skewness \n",
    "Bir değişkenin dağılımının simetrik olmamasıdır. Negatif ve Pozitif Çarpıklık olabilir. \n",
    "\n",
    "Pearson Çarpıklık Katsayısı: $ \\frac{3(\\overline x - medyan)} {standart sapma} $ \n",
    "\n",
    "PÇK < 0 ise Negatif Çarpık - Soldan \\\n",
    "PÇK > 0 ise Pozitif Çarpık - Sağdan \\\n",
    "PÇK = 0 ise Simetrik \n",
    "\n",
    "#### Basıklık / Kurtosis \n",
    "Elimizdeki değişkenin dağılımının basık veya sivri olduğunu gösterir. \n",
    "\n",
    "### $ Basiklik Katsayisi = \\frac {m_4}{s_4} $ \n",
    "\n",
    "$ m_4 $ ortalamaya göre 4.momenti ifade eder. \n",
    "\n",
    "$ \\frac {\\sum_{i=1}^n (x_i-\\overline x)^4}{n} $\n",
    "\n",
    "$ s_4 $ ise standart sapmanın 4. kuvveti.\n",
    "\n",
    "BKS < 3 ise basık \\\n",
    "BKS > 3 ise sivri \\\n",
    "BKS = 0 ise normal "
   ]
  },
  {
   "cell_type": "markdown",
   "id": "2ae13a4a-fff1-4abe-a5d9-8593a6e0e4c2",
   "metadata": {},
   "source": [
    "#### Örnek Teorisi"
   ]
  },
  {
   "cell_type": "code",
   "execution_count": 1,
   "id": "004286b1-a293-40c3-885c-ff9ffc7ae570",
   "metadata": {},
   "outputs": [],
   "source": [
    "import numpy as np"
   ]
  },
  {
   "cell_type": "code",
   "execution_count": 2,
   "id": "6c6e0d06-d38a-463c-93e3-195a7a1b02e1",
   "metadata": {},
   "outputs": [],
   "source": [
    "populasyon = np.random.randint(0,80,10000)"
   ]
  },
  {
   "cell_type": "code",
   "execution_count": 3,
   "id": "c95f135d-423d-42a2-b1be-6c6f256c04f7",
   "metadata": {},
   "outputs": [
    {
     "data": {
      "text/plain": [
       "array([64, 38,  2, 19, 78, 59, 67, 10, 70, 49])"
      ]
     },
     "execution_count": 3,
     "metadata": {},
     "output_type": "execute_result"
    }
   ],
   "source": [
    "populasyon[0:10]"
   ]
  },
  {
   "cell_type": "markdown",
   "id": "95539eba-97cd-47a4-8b45-40131f22a0d6",
   "metadata": {},
   "source": [
    "#### Örneklem çekimi"
   ]
  },
  {
   "cell_type": "code",
   "execution_count": 5,
   "id": "d2c03f3d-9369-4484-ae3f-8a10f22f9ffa",
   "metadata": {},
   "outputs": [
    {
     "data": {
      "text/plain": [
       "array([48, 68, 76,  2, 72, 43, 43, 79, 33, 61])"
      ]
     },
     "execution_count": 5,
     "metadata": {},
     "output_type": "execute_result"
    }
   ],
   "source": [
    "np.random.seed(10) \n",
    "#yapılacakişlemher tekrar edildiğinde \n",
    "# aynı yapıyı getirmesini garanti eden bir işlem.\n",
    "orneklem = np.random.choice(a = populasyon, size = 100)\n",
    "orneklem[0:10]"
   ]
  },
  {
   "cell_type": "code",
   "execution_count": 6,
   "id": "c919f3e0-aaf6-42b5-998a-6a3bc8e35ef8",
   "metadata": {},
   "outputs": [
    {
     "data": {
      "text/plain": [
       "39.1"
      ]
     },
     "execution_count": 6,
     "metadata": {},
     "output_type": "execute_result"
    }
   ],
   "source": [
    "orneklem.mean()"
   ]
  },
  {
   "cell_type": "code",
   "execution_count": 7,
   "id": "fdfdba91-d7e3-46b2-af23-83ab50e1a464",
   "metadata": {},
   "outputs": [
    {
     "data": {
      "text/plain": [
       "39.1197"
      ]
     },
     "execution_count": 7,
     "metadata": {},
     "output_type": "execute_result"
    }
   ],
   "source": [
    "populasyon.mean()"
   ]
  },
  {
   "cell_type": "markdown",
   "id": "c3585b10-e877-4eea-8646-33122303a366",
   "metadata": {},
   "source": [
    "### Örneklem Dağılımı"
   ]
  },
  {
   "cell_type": "code",
   "execution_count": 9,
   "id": "5e70e920-d3aa-4a25-b07d-ac0abaad7ffe",
   "metadata": {},
   "outputs": [],
   "source": [
    "np.random.seed(10)\n",
    "orneklem1 = np.random.choice(a = populasyon, size = 100)\n",
    "orneklem2 = np.random.choice(a = populasyon, size = 100)\n",
    "orneklem3 = np.random.choice(a = populasyon, size = 100)\n",
    "orneklem4 = np.random.choice(a = populasyon, size = 100)\n",
    "orneklem5 = np.random.choice(a = populasyon, size = 100)\n",
    "orneklem6 = np.random.choice(a = populasyon, size = 100)"
   ]
  },
  {
   "cell_type": "code",
   "execution_count": 10,
   "id": "3bfa9d75-b9c1-4029-81d7-c814fb2c7476",
   "metadata": {},
   "outputs": [
    {
     "data": {
      "text/plain": [
       "41.06166666666667"
      ]
     },
     "execution_count": 10,
     "metadata": {},
     "output_type": "execute_result"
    }
   ],
   "source": [
    "(orneklem1.mean() + orneklem2.mean() + orneklem3.mean() + orneklem4.mean() + orneklem5.mean() + orneklem6.mean() ) / 6"
   ]
  },
  {
   "cell_type": "markdown",
   "id": "ae07d38a-74df-4055-8fa2-ad0b063dbc4f",
   "metadata": {
    "tags": []
   },
   "source": [
    "### BETİMSEL İSTATİSTİK"
   ]
  },
  {
   "cell_type": "code",
   "execution_count": 12,
   "id": "6389484e-0426-4236-b5af-ebf6b566b138",
   "metadata": {},
   "outputs": [
    {
     "data": {
      "text/plain": [
       "<bound method NDFrame.head of      total_bill   tip     sex smoker   day    time  size\n",
       "0         16.99  1.01  Female     No   Sun  Dinner     2\n",
       "1         10.34  1.66    Male     No   Sun  Dinner     3\n",
       "2         21.01  3.50    Male     No   Sun  Dinner     3\n",
       "3         23.68  3.31    Male     No   Sun  Dinner     2\n",
       "4         24.59  3.61  Female     No   Sun  Dinner     4\n",
       "..          ...   ...     ...    ...   ...     ...   ...\n",
       "239       29.03  5.92    Male     No   Sat  Dinner     3\n",
       "240       27.18  2.00  Female    Yes   Sat  Dinner     2\n",
       "241       22.67  2.00    Male    Yes   Sat  Dinner     2\n",
       "242       17.82  1.75    Male     No   Sat  Dinner     2\n",
       "243       18.78  3.00  Female     No  Thur  Dinner     2\n",
       "\n",
       "[244 rows x 7 columns]>"
      ]
     },
     "execution_count": 12,
     "metadata": {},
     "output_type": "execute_result"
    }
   ],
   "source": [
    "import seaborn as sns\n",
    "tips = sns.load_dataset(\"tips\")\n",
    "df = tips.copy()\n",
    "df.head"
   ]
  },
  {
   "cell_type": "code",
   "execution_count": 14,
   "id": "8bcbea64-2924-474a-bcf5-a79b2cabd367",
   "metadata": {},
   "outputs": [
    {
     "data": {
      "text/html": [
       "<div>\n",
       "<style scoped>\n",
       "    .dataframe tbody tr th:only-of-type {\n",
       "        vertical-align: middle;\n",
       "    }\n",
       "\n",
       "    .dataframe tbody tr th {\n",
       "        vertical-align: top;\n",
       "    }\n",
       "\n",
       "    .dataframe thead th {\n",
       "        text-align: right;\n",
       "    }\n",
       "</style>\n",
       "<table border=\"1\" class=\"dataframe\">\n",
       "  <thead>\n",
       "    <tr style=\"text-align: right;\">\n",
       "      <th></th>\n",
       "      <th>count</th>\n",
       "      <th>mean</th>\n",
       "      <th>std</th>\n",
       "      <th>min</th>\n",
       "      <th>25%</th>\n",
       "      <th>50%</th>\n",
       "      <th>75%</th>\n",
       "      <th>max</th>\n",
       "    </tr>\n",
       "  </thead>\n",
       "  <tbody>\n",
       "    <tr>\n",
       "      <th>total_bill</th>\n",
       "      <td>244.0</td>\n",
       "      <td>19.785943</td>\n",
       "      <td>8.902412</td>\n",
       "      <td>3.07</td>\n",
       "      <td>13.3475</td>\n",
       "      <td>17.795</td>\n",
       "      <td>24.1275</td>\n",
       "      <td>50.81</td>\n",
       "    </tr>\n",
       "    <tr>\n",
       "      <th>tip</th>\n",
       "      <td>244.0</td>\n",
       "      <td>2.998279</td>\n",
       "      <td>1.383638</td>\n",
       "      <td>1.00</td>\n",
       "      <td>2.0000</td>\n",
       "      <td>2.900</td>\n",
       "      <td>3.5625</td>\n",
       "      <td>10.00</td>\n",
       "    </tr>\n",
       "    <tr>\n",
       "      <th>size</th>\n",
       "      <td>244.0</td>\n",
       "      <td>2.569672</td>\n",
       "      <td>0.951100</td>\n",
       "      <td>1.00</td>\n",
       "      <td>2.0000</td>\n",
       "      <td>2.000</td>\n",
       "      <td>3.0000</td>\n",
       "      <td>6.00</td>\n",
       "    </tr>\n",
       "  </tbody>\n",
       "</table>\n",
       "</div>"
      ],
      "text/plain": [
       "            count       mean       std   min      25%     50%      75%    max\n",
       "total_bill  244.0  19.785943  8.902412  3.07  13.3475  17.795  24.1275  50.81\n",
       "tip         244.0   2.998279  1.383638  1.00   2.0000   2.900   3.5625  10.00\n",
       "size        244.0   2.569672  0.951100  1.00   2.0000   2.000   3.0000   6.00"
      ]
     },
     "execution_count": 14,
     "metadata": {},
     "output_type": "execute_result"
    }
   ],
   "source": [
    "df.describe().T"
   ]
  },
  {
   "cell_type": "code",
   "execution_count": null,
   "id": "86cbd6db-ad8d-4bc5-9fb1-c57e43fa63bd",
   "metadata": {},
   "outputs": [
    {
     "name": "stdout",
     "output_type": "stream",
     "text": [
      "Requirement already satisfied: researchpy in c:\\users\\furka\\anaconda3\\lib\\site-packages (0.3.5)\n",
      "Requirement already satisfied: pandas in c:\\users\\furka\\anaconda3\\lib\\site-packages (from researchpy) (1.4.4)\n",
      "Requirement already satisfied: statsmodels in c:\\users\\furka\\anaconda3\\lib\\site-packages (from researchpy) (0.13.2)\n",
      "Requirement already satisfied: numpy in c:\\users\\furka\\anaconda3\\lib\\site-packages (from researchpy) (1.21.5)\n",
      "Requirement already satisfied: scipy in c:\\users\\furka\\anaconda3\\lib\\site-packages (from researchpy) (1.9.1)\n",
      "Requirement already satisfied: patsy in c:\\users\\furka\\anaconda3\\lib\\site-packages (from researchpy) (0.5.2)\n",
      "Requirement already satisfied: pytz>=2020.1 in c:\\users\\furka\\anaconda3\\lib\\site-packages (from pandas->researchpy) (2022.1)\n",
      "Requirement already satisfied: python-dateutil>=2.8.1 in c:\\users\\furka\\anaconda3\\lib\\site-packages (from pandas->researchpy) (2.8.2)\n",
      "Requirement already satisfied: six in c:\\users\\furka\\anaconda3\\lib\\site-packages (from patsy->researchpy) (1.16.0)\n",
      "Requirement already satisfied: packaging>=21.3 in c:\\users\\furka\\anaconda3\\lib\\site-packages (from statsmodels->researchpy) (21.3)\n",
      "Requirement already satisfied: pyparsing!=3.0.5,>=2.0.2 in c:\\users\\furka\\anaconda3\\lib\\site-packages (from packaging>=21.3->statsmodels->researchpy) (3.0.9)\n"
     ]
    }
   ],
   "source": [
    "!pip install researchpy\n",
    "import researchpy as rp"
   ]
  },
  {
   "cell_type": "code",
   "execution_count": 19,
   "id": "76d22a47-5099-46d4-a051-2b63f1654538",
   "metadata": {},
   "outputs": [
    {
     "name": "stdout",
     "output_type": "stream",
     "text": [
      "\n",
      "\n"
     ]
    },
    {
     "data": {
      "text/html": [
       "<div>\n",
       "<style scoped>\n",
       "    .dataframe tbody tr th:only-of-type {\n",
       "        vertical-align: middle;\n",
       "    }\n",
       "\n",
       "    .dataframe tbody tr th {\n",
       "        vertical-align: top;\n",
       "    }\n",
       "\n",
       "    .dataframe thead th {\n",
       "        text-align: right;\n",
       "    }\n",
       "</style>\n",
       "<table border=\"1\" class=\"dataframe\">\n",
       "  <thead>\n",
       "    <tr style=\"text-align: right;\">\n",
       "      <th></th>\n",
       "      <th>Variable</th>\n",
       "      <th>N</th>\n",
       "      <th>Mean</th>\n",
       "      <th>SD</th>\n",
       "      <th>SE</th>\n",
       "      <th>95% Conf.</th>\n",
       "      <th>Interval</th>\n",
       "    </tr>\n",
       "  </thead>\n",
       "  <tbody>\n",
       "    <tr>\n",
       "      <th>0</th>\n",
       "      <td>total_bill</td>\n",
       "      <td>244.0</td>\n",
       "      <td>19.7859</td>\n",
       "      <td>8.9024</td>\n",
       "      <td>0.5699</td>\n",
       "      <td>18.6633</td>\n",
       "      <td>20.9086</td>\n",
       "    </tr>\n",
       "    <tr>\n",
       "      <th>1</th>\n",
       "      <td>tip</td>\n",
       "      <td>244.0</td>\n",
       "      <td>2.9983</td>\n",
       "      <td>1.3836</td>\n",
       "      <td>0.0886</td>\n",
       "      <td>2.8238</td>\n",
       "      <td>3.1728</td>\n",
       "    </tr>\n",
       "    <tr>\n",
       "      <th>2</th>\n",
       "      <td>size</td>\n",
       "      <td>244.0</td>\n",
       "      <td>2.5697</td>\n",
       "      <td>0.9511</td>\n",
       "      <td>0.0609</td>\n",
       "      <td>2.4497</td>\n",
       "      <td>2.6896</td>\n",
       "    </tr>\n",
       "  </tbody>\n",
       "</table>\n",
       "</div>"
      ],
      "text/plain": [
       "     Variable      N     Mean      SD      SE  95% Conf.  Interval\n",
       "0  total_bill  244.0  19.7859  8.9024  0.5699    18.6633   20.9086\n",
       "1         tip  244.0   2.9983  1.3836  0.0886     2.8238    3.1728\n",
       "2        size  244.0   2.5697  0.9511  0.0609     2.4497    2.6896"
      ]
     },
     "execution_count": 19,
     "metadata": {},
     "output_type": "execute_result"
    }
   ],
   "source": [
    "rp.summary_cont(df[[\"total_bill\",\"tip\", \"size\"]]) \n",
    "#standart sapma, ortalama vs sayısal istatistikleri veriyor"
   ]
  },
  {
   "cell_type": "code",
   "execution_count": 20,
   "id": "5b03d292-ee81-44b6-b3fc-f8d9542330d4",
   "metadata": {},
   "outputs": [
    {
     "data": {
      "text/html": [
       "<div>\n",
       "<style scoped>\n",
       "    .dataframe tbody tr th:only-of-type {\n",
       "        vertical-align: middle;\n",
       "    }\n",
       "\n",
       "    .dataframe tbody tr th {\n",
       "        vertical-align: top;\n",
       "    }\n",
       "\n",
       "    .dataframe thead th {\n",
       "        text-align: right;\n",
       "    }\n",
       "</style>\n",
       "<table border=\"1\" class=\"dataframe\">\n",
       "  <thead>\n",
       "    <tr style=\"text-align: right;\">\n",
       "      <th></th>\n",
       "      <th>Variable</th>\n",
       "      <th>Outcome</th>\n",
       "      <th>Count</th>\n",
       "      <th>Percent</th>\n",
       "    </tr>\n",
       "  </thead>\n",
       "  <tbody>\n",
       "    <tr>\n",
       "      <th>0</th>\n",
       "      <td>sex</td>\n",
       "      <td>Male</td>\n",
       "      <td>157</td>\n",
       "      <td>64.34</td>\n",
       "    </tr>\n",
       "    <tr>\n",
       "      <th>1</th>\n",
       "      <td></td>\n",
       "      <td>Female</td>\n",
       "      <td>87</td>\n",
       "      <td>35.66</td>\n",
       "    </tr>\n",
       "    <tr>\n",
       "      <th>2</th>\n",
       "      <td>smoker</td>\n",
       "      <td>No</td>\n",
       "      <td>151</td>\n",
       "      <td>61.89</td>\n",
       "    </tr>\n",
       "    <tr>\n",
       "      <th>3</th>\n",
       "      <td></td>\n",
       "      <td>Yes</td>\n",
       "      <td>93</td>\n",
       "      <td>38.11</td>\n",
       "    </tr>\n",
       "    <tr>\n",
       "      <th>4</th>\n",
       "      <td>day</td>\n",
       "      <td>Sat</td>\n",
       "      <td>87</td>\n",
       "      <td>35.66</td>\n",
       "    </tr>\n",
       "    <tr>\n",
       "      <th>5</th>\n",
       "      <td></td>\n",
       "      <td>Sun</td>\n",
       "      <td>76</td>\n",
       "      <td>31.15</td>\n",
       "    </tr>\n",
       "    <tr>\n",
       "      <th>6</th>\n",
       "      <td></td>\n",
       "      <td>Thur</td>\n",
       "      <td>62</td>\n",
       "      <td>25.41</td>\n",
       "    </tr>\n",
       "    <tr>\n",
       "      <th>7</th>\n",
       "      <td></td>\n",
       "      <td>Fri</td>\n",
       "      <td>19</td>\n",
       "      <td>7.79</td>\n",
       "    </tr>\n",
       "  </tbody>\n",
       "</table>\n",
       "</div>"
      ],
      "text/plain": [
       "  Variable Outcome  Count  Percent\n",
       "0      sex    Male    157    64.34\n",
       "1           Female     87    35.66\n",
       "2   smoker      No    151    61.89\n",
       "3              Yes     93    38.11\n",
       "4      day     Sat     87    35.66\n",
       "5              Sun     76    31.15\n",
       "6             Thur     62    25.41\n",
       "7              Fri     19     7.79"
      ]
     },
     "execution_count": 20,
     "metadata": {},
     "output_type": "execute_result"
    }
   ],
   "source": [
    "rp.summary_cat(df[[\"sex\",\"smoker\", \"day\"]])\n",
    "#kategorik değişkenlerin bilgilerini yüzdelerini vs veriyor"
   ]
  },
  {
   "cell_type": "markdown",
   "id": "a4b1c32e-8676-46d7-8378-4920cf1ec652",
   "metadata": {},
   "source": [
    "#### Kovaryans"
   ]
  },
  {
   "cell_type": "markdown",
   "id": "9c4d317b-6c48-4bae-a2e4-3c9ac275664f",
   "metadata": {},
   "source": [
    "İki değişkenin arasındaki ilişkinin değişkenlik ölçüsüdür. \n",
    "\n",
    "$ cov(X,Y) = E[(X-E[X])(Y-E[Y])] $ "
   ]
  },
  {
   "cell_type": "code",
   "execution_count": 25,
   "id": "2eaac65e-f881-4c4b-8a07-197350c17088",
   "metadata": {},
   "outputs": [
    {
     "data": {
      "text/html": [
       "<div>\n",
       "<style scoped>\n",
       "    .dataframe tbody tr th:only-of-type {\n",
       "        vertical-align: middle;\n",
       "    }\n",
       "\n",
       "    .dataframe tbody tr th {\n",
       "        vertical-align: top;\n",
       "    }\n",
       "\n",
       "    .dataframe thead th {\n",
       "        text-align: right;\n",
       "    }\n",
       "</style>\n",
       "<table border=\"1\" class=\"dataframe\">\n",
       "  <thead>\n",
       "    <tr style=\"text-align: right;\">\n",
       "      <th></th>\n",
       "      <th>tip</th>\n",
       "      <th>total_bill</th>\n",
       "    </tr>\n",
       "  </thead>\n",
       "  <tbody>\n",
       "    <tr>\n",
       "      <th>tip</th>\n",
       "      <td>1.914455</td>\n",
       "      <td>8.323502</td>\n",
       "    </tr>\n",
       "    <tr>\n",
       "      <th>total_bill</th>\n",
       "      <td>8.323502</td>\n",
       "      <td>79.252939</td>\n",
       "    </tr>\n",
       "  </tbody>\n",
       "</table>\n",
       "</div>"
      ],
      "text/plain": [
       "                 tip  total_bill\n",
       "tip         1.914455    8.323502\n",
       "total_bill  8.323502   79.252939"
      ]
     },
     "execution_count": 25,
     "metadata": {},
     "output_type": "execute_result"
    }
   ],
   "source": [
    "df[[\"tip\",\"total_bill\"]].cov()"
   ]
  },
  {
   "cell_type": "markdown",
   "id": "f14618ff-7c77-40ec-a37e-a32f0d84d686",
   "metadata": {},
   "source": [
    "#### Korelasyon"
   ]
  },
  {
   "cell_type": "markdown",
   "id": "14d28d1b-f3db-45d0-aca8-d7919ecaa3ef",
   "metadata": {},
   "source": [
    "İki değişken arasındaki ilişkiyi, ilişkinin anlamlı olup olmadığını, ilişkinin\n",
    "şiddetini ve yönünü ifade eden istatistiksel bir tekniktir. \n",
    "\n",
    "### $ r_{xy} = \\frac {\\sum x_iy_i - n\\overline x\\overline y} {\\sqrt(\\sum x_i^2 - n \\overline x^2) \\sqrt (\\sum y_i^2 - n \\overline y^2)} $ "
   ]
  },
  {
   "cell_type": "code",
   "execution_count": 23,
   "id": "5be052e0-3e63-4894-94a8-010e2506f9c1",
   "metadata": {},
   "outputs": [
    {
     "data": {
      "text/html": [
       "<div>\n",
       "<style scoped>\n",
       "    .dataframe tbody tr th:only-of-type {\n",
       "        vertical-align: middle;\n",
       "    }\n",
       "\n",
       "    .dataframe tbody tr th {\n",
       "        vertical-align: top;\n",
       "    }\n",
       "\n",
       "    .dataframe thead th {\n",
       "        text-align: right;\n",
       "    }\n",
       "</style>\n",
       "<table border=\"1\" class=\"dataframe\">\n",
       "  <thead>\n",
       "    <tr style=\"text-align: right;\">\n",
       "      <th></th>\n",
       "      <th>tip</th>\n",
       "      <th>total_bill</th>\n",
       "    </tr>\n",
       "  </thead>\n",
       "  <tbody>\n",
       "    <tr>\n",
       "      <th>tip</th>\n",
       "      <td>1.000000</td>\n",
       "      <td>0.675734</td>\n",
       "    </tr>\n",
       "    <tr>\n",
       "      <th>total_bill</th>\n",
       "      <td>0.675734</td>\n",
       "      <td>1.000000</td>\n",
       "    </tr>\n",
       "  </tbody>\n",
       "</table>\n",
       "</div>"
      ],
      "text/plain": [
       "                 tip  total_bill\n",
       "tip         1.000000    0.675734\n",
       "total_bill  0.675734    1.000000"
      ]
     },
     "execution_count": 23,
     "metadata": {},
     "output_type": "execute_result"
    }
   ],
   "source": [
    "df[[\"tip\",\"total_bill\"]].corr()"
   ]
  },
  {
   "cell_type": "markdown",
   "id": "a6f75ae8-6743-4755-96e8-49aac9289ed6",
   "metadata": {},
   "source": [
    "#### Güven Aralığı"
   ]
  },
  {
   "cell_type": "markdown",
   "id": "e82a7a7c-9706-45ae-a8dd-71e660285224",
   "metadata": {},
   "source": [
    "Anakütle parametresinin tahmini değerini kapsayabilecek iki sayıdan\n",
    "oluşan bir aralık bulunmasıdır."
   ]
  },
  {
   "cell_type": "markdown",
   "id": "a512f13b-c104-4bfa-9130-8d65a7518ef2",
   "metadata": {},
   "source": [
    "Web sitesinde geçirilen sürenin güven aralığı nedir? \n",
    "Ortalama : 180 saniye\n",
    "Standart sapma : 40 Saniye\n",
    "Güven aralığı : 172 - 188 \n",
    "n = 100, ortalama = 180, standart sapma = 40\n",
    "Güven aralığına yüzde 95 lik ifade ön tanımlı kabul edilir. Bunun Z tablo değeri (1,96-2,57)\n",
    "1,96 seçilir genellikle. "
   ]
  },
  {
   "cell_type": "markdown",
   "id": "2b040558-0ccc-4917-94fb-137eb5a86805",
   "metadata": {},
   "source": [
    "### $ \\overline x \\pm z \\frac{s}{\\sqrt n} = 180 \\pm 1.96 x \\frac {40}{\\sqrt 100} $\n",
    "\n",
    "Sonuç: 172 ile 188 arasındadır. "
   ]
  },
  {
   "cell_type": "markdown",
   "id": "579dba0e-5b6f-4dc5-8a37-f780967e47fc",
   "metadata": {},
   "source": [
    "# İş Uygulaması: Fiyat Stratejisi Karar Destek # "
   ]
  },
  {
   "cell_type": "code",
   "execution_count": 1,
   "id": "5469bad2-bfd0-48c8-93bb-2ad3abbdeee5",
   "metadata": {},
   "outputs": [],
   "source": [
    "import numpy as np\n",
    "fiyatlar = np.random.randint(10,110,1000)"
   ]
  },
  {
   "cell_type": "code",
   "execution_count": 2,
   "id": "c3576e71-ad62-4987-89b6-23bc09780c10",
   "metadata": {},
   "outputs": [
    {
     "data": {
      "text/plain": [
       "59.093"
      ]
     },
     "execution_count": 2,
     "metadata": {},
     "output_type": "execute_result"
    }
   ],
   "source": [
    "fiyatlar.mean()"
   ]
  },
  {
   "cell_type": "code",
   "execution_count": 3,
   "id": "8c917587-663a-4097-9157-42e6bf829f03",
   "metadata": {},
   "outputs": [],
   "source": [
    "import statsmodels.stats.api as sms"
   ]
  },
  {
   "cell_type": "code",
   "execution_count": 4,
   "id": "650a5b1d-b81b-45cb-a848-f072903c2dd4",
   "metadata": {},
   "outputs": [
    {
     "data": {
      "text/plain": [
       "(57.32627474500961, 60.859725254990394)"
      ]
     },
     "execution_count": 4,
     "metadata": {},
     "output_type": "execute_result"
    }
   ],
   "source": [
    "sms.DescrStatsW(fiyatlar).tconfint_mean()"
   ]
  },
  {
   "cell_type": "markdown",
   "id": "2f2f260a-b96a-4fbb-9c9f-0d7807366653",
   "metadata": {},
   "source": [
    "Fiyatlara karar verirken yüzde 95 doğruluk payı ile yapılan anket ve pazar araştırması sonucu müşterilerin ödemeye razı olduğu bedel belirleniyor. "
   ]
  },
  {
   "cell_type": "markdown",
   "id": "bde61027-4664-4440-a9b3-57e57f2ffeed",
   "metadata": {
    "tags": []
   },
   "source": [
    "## Olasılığa Giriş ve Olasılık Dağılımları "
   ]
  },
  {
   "cell_type": "markdown",
   "id": "81f8dde2-c782-4d30-acd6-ce7e332b52f6",
   "metadata": {},
   "source": [
    "Olayların olabilirliğinin sayısal ifadesi veya uygun durum sayısının, elverişli durum sayısına bölümü. "
   ]
  },
  {
   "cell_type": "markdown",
   "id": "4fe541d4-bedb-4116-9949-92d48ff4360d",
   "metadata": {
    "tags": []
   },
   "source": [
    "#### Rassal Değişken\n",
    "\n",
    "Değerlerini bir deneyin sonuçlarından alan değişkene rassal değişken denir. \n",
    "\n",
    "Örneğin; yazı tura. (kesikli rassal değişken) \n",
    "\n",
    "##### Kesikli Olasılık Dağılımları \n",
    "\n",
    "Bernoulli \\\n",
    "Binom \\\n",
    "Poisson \n",
    "\n",
    "##### Sürekli Olasılık Dağılımları \n",
    "\n",
    "Normal dağılım \\\n",
    "Üniform Dağılım \\\n",
    "Üstel Dağılım "
   ]
  },
  {
   "cell_type": "markdown",
   "id": "c709aad6-0e2a-4df1-b3ae-270dfd6bfe3d",
   "metadata": {},
   "source": [
    "### Bernoulli Dağılımı\n",
    "\n",
    "Başarılı-başarısız, olumlu-olumsuz şeklinde iki sonuçlu olaylar ile ilgilenildiğinden kullanılan kesikli olasılık dağılımıdır. \n"
   ]
  },
  {
   "cell_type": "markdown",
   "id": "78fdc2ee-f5b5-4898-8545-ce13fd10188f",
   "metadata": {},
   "source": [
    "#### $ f(k;p) = p^k (1 - 9)^{1-k} for \\ k \\in \\ ${0,1}$ \\\\\n",
    "E(X) =  p\\\\\n",
    "Var[X] = pd = p(1 – p) \n",
    "$"
   ]
  },
  {
   "cell_type": "code",
   "execution_count": 3,
   "id": "9c22c5b5-a497-40aa-9737-b30668aa871f",
   "metadata": {
    "tags": []
   },
   "outputs": [],
   "source": [
    "from scipy.stats import bernoulli"
   ]
  },
  {
   "cell_type": "code",
   "execution_count": 4,
   "id": "038af494-d385-4d1f-8ec5-841798c1d597",
   "metadata": {
    "tags": []
   },
   "outputs": [],
   "source": [
    "p = 0.6"
   ]
  },
  {
   "cell_type": "code",
   "execution_count": 5,
   "id": "f176dc47-72e4-4647-bef4-e7fa4fa99eeb",
   "metadata": {},
   "outputs": [
    {
     "data": {
      "text/plain": [
       "0.4"
      ]
     },
     "execution_count": 5,
     "metadata": {},
     "output_type": "execute_result"
    }
   ],
   "source": [
    "rv = bernoulli(p)\n",
    "rv.pmf(k = 0)"
   ]
  },
  {
   "cell_type": "markdown",
   "id": "eb1e6779-de73-4895-8f68-6ef86cc5d260",
   "metadata": {},
   "source": [
    "### Büyük Sayılar Yasası\n",
    "\n",
    "Bir rassal değişkenin uzun vadeli kararlılığını tanımlayan olasılık teoremidir. "
   ]
  },
  {
   "cell_type": "code",
   "execution_count": 15,
   "id": "cb6c575c-78b3-4f1c-80aa-8243d6b175cf",
   "metadata": {},
   "outputs": [
    {
     "name": "stdout",
     "output_type": "stream",
     "text": [
      "Atış Sayisi: 2 --- Yazı Olasılığı: 50.00\n",
      "Atış Sayisi: 4 --- Yazı Olasılığı: 0.00\n",
      "Atış Sayisi: 8 --- Yazı Olasılığı: 62.50\n",
      "Atış Sayisi: 16 --- Yazı Olasılığı: 43.75\n",
      "Atış Sayisi: 32 --- Yazı Olasılığı: 46.88\n",
      "Atış Sayisi: 64 --- Yazı Olasılığı: 56.25\n",
      "Atış Sayisi: 128 --- Yazı Olasılığı: 50.78\n",
      "Atış Sayisi: 256 --- Yazı Olasılığı: 52.73\n",
      "Atış Sayisi: 512 --- Yazı Olasılığı: 52.93\n",
      "Atış Sayisi: 1024 --- Yazı Olasılığı: 50.20\n",
      "Atış Sayisi: 2048 --- Yazı Olasılığı: 48.58\n",
      "Atış Sayisi: 4096 --- Yazı Olasılığı: 49.49\n",
      "Atış Sayisi: 8192 --- Yazı Olasılığı: 49.58\n",
      "Atış Sayisi: 16384 --- Yazı Olasılığı: 49.96\n",
      "Atış Sayisi: 32768 --- Yazı Olasılığı: 50.00\n",
      "Atış Sayisi: 65536 --- Yazı Olasılığı: 49.68\n",
      "Atış Sayisi: 131072 --- Yazı Olasılığı: 49.97\n",
      "Atış Sayisi: 262144 --- Yazı Olasılığı: 50.13\n",
      "Atış Sayisi: 524288 --- Yazı Olasılığı: 50.01\n",
      "Atış Sayisi: 1048576 --- Yazı Olasılığı: 50.09\n"
     ]
    }
   ],
   "source": [
    "import numpy as np\n",
    "rng = np.random.RandomState(123)\n",
    "for i in np.arange(1,21):\n",
    "    deney_sayisi = 2**i\n",
    "    yazi_turalar = rng.randint(0,2, size = deney_sayisi)\n",
    "    yazi_olasiliklari = np.mean(yazi_turalar)\n",
    "    print(\"Atış Sayisi:\",deney_sayisi,\"---\",\"Yazı Olasılığı: %.2f\" % (yazi_olasiliklari * 100))"
   ]
  },
  {
   "cell_type": "markdown",
   "id": "78b6c7b9-551c-4f40-a438-767c2146ac3d",
   "metadata": {},
   "source": [
    "### Binom Dağılımı\n",
    "\n",
    "Bağımsız n deneme sonucu k başarılı olma olasılığı ile ilgilendiğinde kullanılan dağılımdır.\n"
   ]
  },
  {
   "cell_type": "markdown",
   "id": "43b77891-9cb9-46bf-97b8-4a23f81e73ee",
   "metadata": {},
   "source": [
    "### Reklam Harcaması Optimizasyonu \n",
    "\n",
    "Çeşitli mecralarda reklam veriliyor ve tık, geri dönüşüm gibi oranlar optimize edilmeye çalışılıyor. Dağılım ve reklama tıklama olasılığı biliniyorsa örneğin 0.01 ise Reklamı 100 kişi gördüğünde 1,5,10 tıklanma olasılığı nedir?"
   ]
  },
  {
   "cell_type": "code",
   "execution_count": 18,
   "id": "a0833052-e180-4391-a274-de959905e1bb",
   "metadata": {
    "tags": []
   },
   "outputs": [],
   "source": [
    "from scipy.stats import binom"
   ]
  },
  {
   "cell_type": "code",
   "execution_count": 28,
   "id": "40fdab10-301a-43ec-8f19-6c88caa199f3",
   "metadata": {},
   "outputs": [
    {
     "name": "stdout",
     "output_type": "stream",
     "text": [
      "2.410407066388487e-38\n",
      "9.18709949233007e-32\n",
      "1.604045027079969e-25\n"
     ]
    }
   ],
   "source": [
    "P = 0.01\n",
    "n = 100\n",
    "rv = binom(n, p)\n",
    "print(rv.pmf(1))\n",
    "print(rv.pmf(5))\n",
    "print(rv.pmf(10))"
   ]
  },
  {
   "cell_type": "markdown",
   "id": "7c65c592-1b0d-441f-83e1-78b85b62b767",
   "metadata": {},
   "source": [
    "#### $ f(k;n,p) =  \\binom{n}{k}p^k(1 - p)^{n-k}, k = 0,1,2,...,n \\\\\n",
    "E(X) =  np $  $ Var[x] = np(1 – p) $ \n"
   ]
  },
  {
   "cell_type": "markdown",
   "id": "c133783a-4e86-49b5-a8b4-35abdcde93de",
   "metadata": {},
   "source": [
    "### Poisson Dağılımı\n",
    "\n",
    "Belirli bir zaman aralığında belirli bir alanda nadiren rastlanan olayların \n",
    "olasılıklarını hesaplamak için kullanılır. Örnek 10000 kelimelik kitapta hatalı kelime sayısı, 5000 öğrencili okulda not giriş hatası, kredi kartı işlemlerinde sahtekarlık olması, rötara düşen uçuş sefer sayısı... \n",
    "Bir olayın nadir kısmına düşmesi için n > 50 den ve n*p < 5 (lambdanın) olmasıdır. Bu sağlanıyor ise Poisson Dağılımı kullanılır. "
   ]
  },
  {
   "cell_type": "markdown",
   "id": "da8338c6-bf11-443b-ad39-a1da250ae56f",
   "metadata": {},
   "source": [
    "#### $ f(x,\\lambda) = \\frac {\\lambda^x {e}^{-\\lambda}}{x!} $ \n",
    "#### $ x = 0,1,2,...,n $\n",
    "#### $ E(X) = \\lambda  \\\\ Var(X) = \\lambda $ "
   ]
  },
  {
   "cell_type": "markdown",
   "id": "281fe369-be3c-4952-8d13-28aaa4aa1376",
   "metadata": {},
   "source": [
    "#### İlan Girişi Hata Olasılıklarının Hesaplanması"
   ]
  },
  {
   "cell_type": "markdown",
   "id": "74d9ac54-fa01-4770-9f22-6d4adc37fd8d",
   "metadata": {},
   "source": [
    "Problem; \\\n",
    "Hatalı ilan giriş olasılıkları hesaplanmak isteniyor. \n",
    "\n",
    "Detaylar; \\\n",
    "1 yıl süresince ölçümler yapılıyor. \\\n",
    "Dağılım biliniyor(poisson) ve Lambda 0.1 (ortalama hata sayısı) \\\n",
    "Hiç hata olmaması, 3 hata olması ve 5 hata olması olasılıkları nedir?"
   ]
  },
  {
   "cell_type": "code",
   "execution_count": 29,
   "id": "602018c3-9a8c-4682-9400-72da71ff00a0",
   "metadata": {},
   "outputs": [],
   "source": [
    "from scipy.stats import poisson"
   ]
  },
  {
   "cell_type": "code",
   "execution_count": 30,
   "id": "4e55b29f-386b-493a-9782-05dae78cfb5f",
   "metadata": {},
   "outputs": [],
   "source": [
    "lambda_ = 0.1"
   ]
  },
  {
   "cell_type": "code",
   "execution_count": 31,
   "id": "98e60f37-761e-4f1b-8cc5-c7b248155f80",
   "metadata": {},
   "outputs": [],
   "source": [
    "rv = poisson(mu = lambda_)"
   ]
  },
  {
   "cell_type": "code",
   "execution_count": 32,
   "id": "4f6d601a-9c32-459b-9ea4-472c5de24763",
   "metadata": {},
   "outputs": [
    {
     "name": "stdout",
     "output_type": "stream",
     "text": [
      "0.9048374180359595\n"
     ]
    }
   ],
   "source": [
    "print(rv.pmf(k = 0))"
   ]
  },
  {
   "cell_type": "code",
   "execution_count": 33,
   "id": "ee9ac034-2776-4515-8bb6-7bfdc29d7733",
   "metadata": {},
   "outputs": [
    {
     "name": "stdout",
     "output_type": "stream",
     "text": [
      "0.00015080623633932676\n"
     ]
    }
   ],
   "source": [
    "print(rv.pmf(k = 3))"
   ]
  },
  {
   "cell_type": "code",
   "execution_count": 34,
   "id": "72a492a9-8a75-4b97-8add-618f3ed5b86d",
   "metadata": {},
   "outputs": [
    {
     "name": "stdout",
     "output_type": "stream",
     "text": [
      "7.54031181696634e-08\n"
     ]
    }
   ],
   "source": [
    "print(rv.pmf(k = 5))"
   ]
  },
  {
   "cell_type": "markdown",
   "id": "536f486d-1a2a-4931-a33b-378824c8ae93",
   "metadata": {},
   "source": [
    "### Normal Dağılım \n",
    "\n",
    "Normal dağıldığı bilinen sürekli rassal değişkenler için olasılık hesaplaması için kullanılır. "
   ]
  },
  {
   "cell_type": "markdown",
   "id": "4c93756e-3455-4a2f-a1c7-e1657f52466c",
   "metadata": {},
   "source": [
    "### $ f(x|\\mu,\\sigma^2) = \\frac{1}{\\sqrt{2\\pi\\sigma^2}} e^{-\\frac{(x-\\mu)^2}{2\\sigma^2}} $\n",
    "\n",
    "$ \\mu $ ortalama ya da dağılımın beklenen değeri \\\n",
    "$ \\sigma $ standart sapma   \n",
    "$ \\sigma^2 $ varyans"
   ]
  },
  {
   "cell_type": "markdown",
   "id": "0e3c625f-5885-4502-bc98-6f55d49183f5",
   "metadata": {},
   "source": [
    "#### Ürün Satış Olasılıklarının Hesaplanması\n",
    "\n",
    "Problem: \\\n",
    "Bir yatırım/toplantı öncesinde gelecek ay ile ilgili satışların \n",
    "belirli değerlerde gerçekleşmesi olasılıkları belirlenmek isteniyor.\n",
    "\n",
    "Detaylar: \\\n",
    "Dağılımın normal olduğu biliniyor \\\n",
    "Aylık ortalama satış sayısı 80K, standart sapması 5K \\\n",
    "90K'dan fazla satış yapma olasılığı nedir?"
   ]
  },
  {
   "cell_type": "code",
   "execution_count": 35,
   "id": "822bbc3c-e1cc-4d94-bb37-a0f54a6bd524",
   "metadata": {},
   "outputs": [],
   "source": [
    "from scipy.stats import norm"
   ]
  },
  {
   "cell_type": "code",
   "execution_count": 36,
   "id": "97f5951c-c7dd-4e45-9653-15b5ae33a190",
   "metadata": {},
   "outputs": [
    {
     "data": {
      "text/plain": [
       "0.02275013194817921"
      ]
     },
     "execution_count": 36,
     "metadata": {},
     "output_type": "execute_result"
    }
   ],
   "source": [
    "1-norm.cdf(90,80,5)"
   ]
  },
  {
   "cell_type": "code",
   "execution_count": 37,
   "id": "1a254a93-7524-4850-baca-78063360635f",
   "metadata": {},
   "outputs": [
    {
     "data": {
      "text/plain": [
       "0.08075665923377107"
      ]
     },
     "execution_count": 37,
     "metadata": {},
     "output_type": "execute_result"
    }
   ],
   "source": [
    "#73'den az olması\n",
    "norm.cdf(73,80,5)"
   ]
  },
  {
   "cell_type": "code",
   "execution_count": 39,
   "id": "cdd136f5-dc24-48fd-9ea6-19449b9427b6",
   "metadata": {},
   "outputs": [
    {
     "data": {
      "text/plain": [
       "0.13590512198327787"
      ]
     },
     "execution_count": 39,
     "metadata": {},
     "output_type": "execute_result"
    }
   ],
   "source": [
    "#85 ile 90 arasında olması\n",
    "norm.cdf(90,80,5) - norm.cdf(85,80,5)"
   ]
  },
  {
   "cell_type": "markdown",
   "id": "688b4e3b-4eee-4bbd-af9f-743d6d1d6eb4",
   "metadata": {},
   "source": [
    "# Hipotez Testleri"
   ]
  },
  {
   "cell_type": "markdown",
   "id": "bc11e890-5654-4862-8afd-e95f8cb90b62",
   "metadata": {},
   "source": [
    "Hipotez testi, bir inanışı(bir savı, bir tahmini vs) test etmek için kullanılan istatistiksel bir tekniktir."
   ]
  },
  {
   "cell_type": "markdown",
   "id": "d09318ec-122d-4ade-be7c-5677758d49f8",
   "metadata": {},
   "source": [
    "Hipotezler 2'ye ayrılır;\n",
    "\n",
    "$ H_0: \\mu = 50 $ parametrelere belirli değerler vererek kurulan null \\\n",
    "$ H_1: \\mu \\neq 50 $ alternatif hipotezdir.\n",
    "\n",
    "Yönlü;\n",
    "\n",
    "$ H_0: \\mu <= 50 $ \\\n",
    "$ H_1: \\mu > 50 $\n",
    "\n",
    "$ H_0: \\mu >= 50 $ \\\n",
    "$ H_1: \\mu < 50 $"
   ]
  },
  {
   "cell_type": "markdown",
   "id": "03326d14-3599-437e-80c2-4b5514c4ce82",
   "metadata": {},
   "source": [
    "#### p-value"
   ]
  },
  {
   "cell_type": "markdown",
   "id": "84ab50f3-bd8c-48aa-909d-ecc221711e76",
   "metadata": {},
   "source": [
    "Hipotez testlerinin sonuçlarını değerlendirmek üzere programlar tarafından \n",
    "p-value değeri verilir. Bu değer üzerinden kolayca yorum yapabilirsiniz.\n",
    "\n",
    "p<0.05 ise ilgili hipotez reddebilir. \\\n",
    "$ \\alpha = 0.05 $ kabul edilebilir hata miktarı. \n",
    "\n",
    "Dağılım testlerinde $ H_0 $ reddedilmek istenmez. Çünkü $ H_0 $ \"örnek dağılımı ile teorik dağılım arasında fark yoktur\" der. \n",
    "\n",
    "$ H_0 $ : Örnek dağılımı ile teorik normal dağılım arasında istatistiksel olarak anlamlı bir fark yoktur. \n",
    "\n",
    "$ H_1 $ : Örnek dağılımı ile teorik normal dağılım arasında istatistiksel olarak anlamlı bir fark vardır."
   ]
  },
  {
   "cell_type": "markdown",
   "id": "ba2e7290-0f08-4f87-ae68-ab476b358804",
   "metadata": {},
   "source": [
    "#### Adımlar\n",
    "1. Hipotez kurulması ve yönlerin belirlenmesi\n",
    "2. Anlamlılık düzeyinin ve tablo değerinin belirlenmesi\n",
    "3. Test istatistiğinin belirlenmesi ve test istatistiğinin hesaplanması\n",
    "4. Hesaplanan test istatistiği ile alfa'ya karşılık gelen tablo değerinin karşılaştırılması. \\\n",
    "Test İstatistiği(Zh) > Tablo Değeri (Zt) ise H0 Red\n",
    "5. Yorum "
   ]
  },
  {
   "cell_type": "markdown",
   "id": "76223508-5719-4aad-850a-9dcc601e6eff",
   "metadata": {},
   "source": [
    "#### Tek Örneklem T Testi\n",
    "\n",
    "Popülasyon ortalaması ile varsayımsal bir değer arasında istatistiksel olarak anlamlı bir farklılık olup olmadığını test etmek için kullanılan parametrik bir testtir. \n",
    "\n",
    "Anakütle standart sapması biliniyor ise z istatistiği kullanılır. \\\n",
    "Anakütle standart sapması bilinmiyor ve n > 30 ise z istatistiği kullanılır. \\\n",
    "Anakütle standar sapması bilinmiyor ve n < 30 ise t istatistiği kullanılır. \n",
    "\n",
    "n büyüdükçe t, z'ye yaklaşır"
   ]
  },
  {
   "cell_type": "markdown",
   "id": "ae194349-479f-4c12-8998-5bf514626138",
   "metadata": {},
   "source": [
    "# $ t = \\frac{\\overline x - \\mu}{\\frac{s}{\\sqrt {n}}} $\n",
    "\n",
    "# $ z = \\frac{\\overline x - \\mu}{\\frac{\\sigma}{\\sqrt {n}}} $"
   ]
  },
  {
   "cell_type": "markdown",
   "id": "bb12ae5e-6ec6-4a04-881a-24df8f1ecde6",
   "metadata": {},
   "source": [
    "### Ürün Satın Alma Adım Optimizasyonu\n",
    "\n",
    "Problem:\\\n",
    "Sepete ürün ekleme işlemi sonrasında ödeme ekranında 5 adım vardır ve bu adımların birisi sorgulanmaktadır. \n",
    "\n",
    "Detaylar: \\\n",
    "Her adımın 20'şer saniye olması hedefi var ve 4. adım sorgulanıyor.\\\n",
    "Bu durumu test etmek için 100 örnek alınıyor. \\\n",
    "Örnek standart sapması 5 saniyedir. Örnek ortalaması ise 19 saniyedir. "
   ]
  },
  {
   "cell_type": "markdown",
   "id": "0c8bfbfb-8be7-4e0b-83df-6e4af32f4bc1",
   "metadata": {},
   "source": [
    "1. Hipotez kurma ve yön belirleme  \n",
    "$ H_0: \\mu = 20  $ \\\n",
    "$ H_1: \\mu \\neq 20 $"
   ]
  },
  {
   "cell_type": "markdown",
   "id": "999e2b34-164b-4064-be77-3499dfef375b",
   "metadata": {},
   "source": [
    "2. Anlamlılık düzeyinin ve tablo değerinin belirlenmesi\n",
    "\n",
    "$ \\alpha = 0,05 $ \\\n",
    "$ \\frac{\\alpha}{2} = 0,025 $\n",
    "\n",
    "Ztablo tablo olasılık değeri: 0,5-0,025 = 0,475\n",
    "Ztablo kritik değer = -/+ 1,96\n"
   ]
  },
  {
   "cell_type": "markdown",
   "id": "30928b3d-810e-41aa-bd8a-574079648cc0",
   "metadata": {},
   "source": [
    "3. Test istatistiğinin belirlenmesi ve test istatistiğinin hesaplanması\n",
    "\n",
    "### $ z = \\frac{\\overline x - \\mu}{\\frac{\\sigma(s)}{\\sqrt {n}}} $\n",
    "\n",
    "### $ zhesap = \\frac{19 - 20}{\\frac{5}{\\sqrt {100}}} = - 2,00 $\n",
    "\n",
    "n = 100, standart sapma = 5, örnek ortalaması 19 sn"
   ]
  },
  {
   "cell_type": "markdown",
   "id": "cb32918a-e945-456e-8282-5d21d029304c",
   "metadata": {},
   "source": [
    "4. Ztablo ve Zhesap karşılaştırması Zh > Zt ya da - Zh < -Zt ise $ H_0 $ Red \n",
    "\n",
    "Zhesap = -2,00 < Ztalbo = -1,96 olduğu için $ H_0 $ reddedilir. "
   ]
  },
  {
   "cell_type": "markdown",
   "id": "9d051b08-4265-4c30-a868-20e38b7654ce",
   "metadata": {},
   "source": [
    "5. Yorum \n",
    "\n",
    "4.adımda geçirilen sürenin 20 saniye olduğunu iddia eden $ H_0 $ hipotesi reddedilmiştir. Buna göre kullanıcılar istatistiksel olarak yüzde 95 güvenilirlik ile 4.adımda 20 saniyeden farklı zaman geçirmektedir. "
   ]
  },
  {
   "cell_type": "markdown",
   "id": "f37c8f27-5ab0-46fc-84f5-296e501919cb",
   "metadata": {},
   "source": [
    "### Web sitesinde Geçirilen Sürenin Testi"
   ]
  },
  {
   "cell_type": "markdown",
   "id": "92b89c17-acab-4b98-96a6-8221518d929d",
   "metadata": {},
   "source": [
    "Problem: Web sitesinde geçirilen süre gerçekten 170 saniye mi?\n",
    "\n",
    "Detaylar: Yazılımlardan elde edilen web sitesinde geçirilen ortalama süreler var.\n",
    "Bu veriler incelendiğinde bir yönetici veya çalışan bu değerlerin böyle olmadığına yönelik düşünceler taşıyor ve bu durumu test etmek istiyorlar. "
   ]
  },
  {
   "cell_type": "code",
   "execution_count": 36,
   "id": "83c936bd-15d0-4bce-a77d-6f87e4414100",
   "metadata": {},
   "outputs": [],
   "source": [
    "import numpy as np\n",
    "\n",
    "olcumler = np.random.randint(17,251,50)"
   ]
  },
  {
   "cell_type": "code",
   "execution_count": 37,
   "id": "45afaf67-9629-43dd-9e6d-73d230d7f1d8",
   "metadata": {},
   "outputs": [
    {
     "data": {
      "text/plain": [
       "array([110, 174, 151,  55, 214, 196, 201,  69, 127, 247])"
      ]
     },
     "execution_count": 37,
     "metadata": {},
     "output_type": "execute_result"
    }
   ],
   "source": [
    "olcumler[0:10]"
   ]
  },
  {
   "cell_type": "code",
   "execution_count": 38,
   "id": "6fea8c3c-51a6-42f6-8d93-1d4cf373a117",
   "metadata": {},
   "outputs": [],
   "source": [
    "import scipy.stats as stats"
   ]
  },
  {
   "cell_type": "code",
   "execution_count": 39,
   "id": "5ffb9980-0f94-4de9-a2b4-e508c5d5c0fb",
   "metadata": {},
   "outputs": [
    {
     "data": {
      "text/plain": [
       "DescribeResult(nobs=50, minmax=(22, 247), mean=131.58, variance=5386.126122448979, skewness=0.06561133649510448, kurtosis=-1.3406178701147504)"
      ]
     },
     "execution_count": 39,
     "metadata": {},
     "output_type": "execute_result"
    }
   ],
   "source": [
    "stats.describe(olcumler)"
   ]
  },
  {
   "cell_type": "code",
   "execution_count": 10,
   "id": "0de12e53-33c6-4f5c-9664-985e64eda82a",
   "metadata": {},
   "outputs": [],
   "source": [
    "#varsayımlar\n",
    "#normallik varsayımı "
   ]
  },
  {
   "cell_type": "code",
   "execution_count": 40,
   "id": "e899d1f7-c981-466a-ae9c-fad32b9a154f",
   "metadata": {},
   "outputs": [
    {
     "data": {
      "image/png": "[encoded data removed]",
      "text/plain": [
       "<Figure size 640x480 with 1 Axes>"
      ]
     },
     "metadata": {},
     "output_type": "display_data"
    }
   ],
   "source": [
    "#Histogram\n",
    "\n",
    "import pandas as pd\n",
    "pd.DataFrame(olcumler).plot.hist();"
   ]
  },
  {
   "cell_type": "code",
   "execution_count": 41,
   "id": "44e8f5a4-5189-4e1e-a0f4-a10412b8bb48",
   "metadata": {},
   "outputs": [
    {
     "data": {
      "image/png": "[encoded data removed]",
      "text/plain": [
       "<Figure size 640x480 with 1 Axes>"
      ]
     },
     "metadata": {},
     "output_type": "display_data"
    }
   ],
   "source": [
    "#qqplot\n",
    "\n",
    "import pylab\n",
    "\n",
    "stats.probplot(olcumler, dist=\"norm\", plot=pylab)\n",
    "               \n",
    "pylab.show()"
   ]
  },
  {
   "cell_type": "code",
   "execution_count": 42,
   "id": "628e1588-8edd-4bba-ba21-c2df68473fa3",
   "metadata": {},
   "outputs": [],
   "source": [
    "#Shapiro-Wilks Testi\n",
    "\n",
    "from scipy.stats import shapiro"
   ]
  },
  {
   "cell_type": "code",
   "execution_count": 43,
   "id": "91e0846f-f6e5-4989-a567-93f60f9280c1",
   "metadata": {},
   "outputs": [
    {
     "data": {
      "text/plain": [
       "ShapiroResult(statistic=0.929582417011261, pvalue=0.005328603554517031)"
      ]
     },
     "execution_count": 43,
     "metadata": {},
     "output_type": "execute_result"
    }
   ],
   "source": [
    "shapiro(olcumler)"
   ]
  },
  {
   "cell_type": "markdown",
   "id": "b1b05f1d-d507-4fe2-a752-986d7156b594",
   "metadata": {},
   "source": [
    "Sonuç: \n",
    "$ H_1: $ Örnek dağılımı ile teorik normal dağılım arasında istatistiksel olarak anlamlı bir fark vardır. H0 reddedilebilir. Reddedilemeseydi T testi uygulanabilirdi. vu durumda nonparametrik test yapılır. Aşağıda uygulanacak. \n"
   ]
  },
  {
   "cell_type": "markdown",
   "id": "252f08aa-2e80-4b88-ae91-fea62d98dc8b",
   "metadata": {
    "tags": []
   },
   "source": [
    "### Nonparametrik Tek Örneklem Testi \n",
    "\n",
    "Çeşitli varsayımların sağlanmadığı gözlemlendiğinde uygulanan testtir. "
   ]
  },
  {
   "cell_type": "code",
   "execution_count": 44,
   "id": "7a48e392-5a98-4674-ad25-3e004b605be7",
   "metadata": {},
   "outputs": [],
   "source": [
    "from statsmodels.stats.descriptivestats import sign_test"
   ]
  },
  {
   "cell_type": "code",
   "execution_count": 46,
   "id": "9798c71b-7997-4fe1-bf4e-90bca910d775",
   "metadata": {},
   "outputs": [
    {
     "data": {
      "text/plain": [
       "(-7.0, 0.06490864707227217)"
      ]
     },
     "execution_count": 46,
     "metadata": {},
     "output_type": "execute_result"
    }
   ],
   "source": [
    "sign_test(olcumler, 170)"
   ]
  },
  {
   "cell_type": "code",
   "execution_count": 20,
   "id": "69b5bbc4-d94c-4471-b978-f5d6e2b36c61",
   "metadata": {},
   "outputs": [],
   "source": [
    "#pvalue farklı çıkacak diğer örnek\n",
    "\n",
    "import numpy as np\n",
    "\n",
    "olcumler = np.random.randint(17,251,50)"
   ]
  },
  {
   "cell_type": "code",
   "execution_count": 21,
   "id": "cbaa37a6-9c77-470d-95d0-5f11bab1c9c3",
   "metadata": {},
   "outputs": [
    {
     "data": {
      "text/plain": [
       "array([ 41,  71, 196, 158, 243,  51,  78, 117, 223, 134])"
      ]
     },
     "execution_count": 21,
     "metadata": {},
     "output_type": "execute_result"
    }
   ],
   "source": [
    "olcumler[0:10]"
   ]
  },
  {
   "cell_type": "code",
   "execution_count": 22,
   "id": "a18968c1-7c27-4660-8d2b-63467929475f",
   "metadata": {},
   "outputs": [],
   "source": [
    "#Shapiro-Wilks Testi\n",
    "\n",
    "from scipy.stats import shapiro"
   ]
  },
  {
   "cell_type": "code",
   "execution_count": 23,
   "id": "77ff8072-fef2-4fda-87cc-615927b85c08",
   "metadata": {},
   "outputs": [
    {
     "data": {
      "text/plain": [
       "ShapiroResult(statistic=0.9616519212722778, pvalue=0.10425730049610138)"
      ]
     },
     "execution_count": 23,
     "metadata": {},
     "output_type": "execute_result"
    }
   ],
   "source": [
    "shapiro(olcumler)"
   ]
  },
  {
   "cell_type": "markdown",
   "id": "5b8617f2-c7c1-42d7-80c1-d778701ad878",
   "metadata": {},
   "source": [
    "Sonuç $ H_0: $ örnek dağılımı ile teorik normal dağılım arasında istatistiksel olarak anlamlı bir fark yoktur. Çünkü pvalue > 0.05 "
   ]
  },
  {
   "cell_type": "code",
   "execution_count": 24,
   "id": "5d4cad6f-d007-4450-9747-249d579ad9ff",
   "metadata": {},
   "outputs": [],
   "source": [
    "#Hipotez Testinin Uygulanması"
   ]
  },
  {
   "cell_type": "code",
   "execution_count": 25,
   "id": "b7f30008-dcf0-487e-8366-4c753164a50f",
   "metadata": {},
   "outputs": [
    {
     "data": {
      "text/plain": [
       "Ttest_1sampResult(statistic=-3.643427806813733, pvalue=0.0006489478415762526)"
      ]
     },
     "execution_count": 25,
     "metadata": {},
     "output_type": "execute_result"
    }
   ],
   "source": [
    "stats.ttest_1samp(olcumler, popmean = 170 )"
   ]
  },
  {
   "cell_type": "markdown",
   "id": "efe31e09-18d0-446e-b204-5461d8799388",
   "metadata": {},
   "source": [
    "Test sonuçları değeri H0 hipotezi reddedilir. Ortalama süre 170'den küçüktür. "
   ]
  },
  {
   "cell_type": "markdown",
   "id": "327aa089-4633-4d1f-a857-99fa4de4897f",
   "metadata": {},
   "source": [
    "### Tek Örneklem Oran Testi "
   ]
  },
  {
   "cell_type": "markdown",
   "id": "94398abd-3768-4cd4-812c-189dc97d4383",
   "metadata": {},
   "source": [
    "Oransal bir ifade test edilmek istenildiğinde kullanılır. "
   ]
  },
  {
   "cell_type": "markdown",
   "id": "12c48821-16ab-4f5a-943e-7c0dcad26eca",
   "metadata": {},
   "source": [
    "## $ z = \\frac {\\hat P - P_0} {\\sqrt {\\frac { P_0 (1 - P_0) } {n}}} $ \n",
    "\n",
    "n > 30 ise bu testi gerçekleştirebiliyoruz"
   ]
  },
  {
   "cell_type": "markdown",
   "id": "de5bfaa1-730d-46cf-802c-f067940b7ea1",
   "metadata": {},
   "source": [
    "### Dönüşüm Oranı Testi \n",
    "\n",
    "Ör: Tıklayan kişi sayısı / Gören kişi sayısı\n",
    "\n",
    "Problem: Bir mecrada reklam verilmiş ve bu reklama ilişkin yazılım tarafından 0.125 dönüşüm oranı elde edildiği ifade edilmiştir. Fakat bu durum kontrol edilmek isteniyor. Çünkü bu yüksek bir oran ve gelirler incelendiğinde örtüşmüyor. \n",
    "\n",
    "Detaylar: 500 kişi dış mecrada reklama tıklamış, 40 tanesi sitemize gelip alışveriş yapmış. \n",
    "Örnek üzerinden elde edilen dönüşüm oranı: 40/500 = 0.08"
   ]
  },
  {
   "cell_type": "markdown",
   "id": "5d553fe9-dc24-47b2-b5b6-810265766b9b",
   "metadata": {},
   "source": [
    "$ H_0: P = 0.125 $ \\\n",
    "$ H_1: P \\neq 0.125 $ "
   ]
  },
  {
   "cell_type": "code",
   "execution_count": 47,
   "id": "1a45f7e3-eb60-45fe-bbe4-2da92670b252",
   "metadata": {},
   "outputs": [],
   "source": [
    "from statsmodels.stats.proportion import proportions_ztest"
   ]
  },
  {
   "cell_type": "code",
   "execution_count": 48,
   "id": "35c14e2b-b5c1-46eb-b389-30cf7ec409f0",
   "metadata": {},
   "outputs": [],
   "source": [
    "count = 40\n",
    "nobs = 500\n",
    "value = 0.125"
   ]
  },
  {
   "cell_type": "code",
   "execution_count": 49,
   "id": "d00f323e-3f80-4808-8740-70db238cdce6",
   "metadata": {},
   "outputs": [
    {
     "data": {
      "text/plain": [
       "(-3.7090151628513017, 0.0002080669689845979)"
      ]
     },
     "execution_count": 49,
     "metadata": {},
     "output_type": "execute_result"
    }
   ],
   "source": [
    "proportions_ztest(count,nobs, value)"
   ]
  },
  {
   "cell_type": "markdown",
   "id": "5927082e-fedd-44a5-a4d1-89e31117d04b",
   "metadata": {},
   "source": [
    "$ H_0 $ hipotezi reddedilir. "
   ]
  },
  {
   "cell_type": "markdown",
   "id": "8c3e94c6-f018-4b1e-b9f1-8851e39157b5",
   "metadata": {},
   "source": [
    "## Bağımsız İki Örneklem T Testi (AB Testi)\n",
    "\n",
    "İki grup ortalaması arasında karşılaştırma yapılmak istenildiğinde kullanılır. "
   ]
  },
  {
   "cell_type": "markdown",
   "id": "d159d5ad-8dc8-4307-8ef3-abd63b1d8985",
   "metadata": {},
   "source": [
    "#### Örnek sayıları aynı, varyanslar homojen ise:\n",
    "\n",
    "### $ t = \\frac {\\overline X_1 - \\overline X_2} {S_p \\sqrt \\frac{2}{n}}  $ , \n",
    "### $ S_p = \\sqrt \\frac {s^2{ x_1} + s^2{ x_2}} {2} $ "
   ]
  },
  {
   "cell_type": "markdown",
   "id": "edd2c423-2ed2-420a-b913-425f1b747f3c",
   "metadata": {},
   "source": [
    "#### Örnek sayıları farklı, varyanslar homojen ise:\n",
    "    \n",
    "## $ t = \\frac {\\overline X_1 - \\overline X_2} {S_p \\sqrt {\\frac{1}{n_1}+\\frac{1}{n_2}} } $ , \n",
    "### $ S_p = \\sqrt \\frac {(n_1-1)s^2{ x_1} + (n_2-1)s^2{ x_2}} {n_1 + n_2 - 2 } $ "
   ]
  },
  {
   "cell_type": "markdown",
   "id": "94d1df8c-f770-4493-9c47-dcac60a77de9",
   "metadata": {},
   "source": [
    "#### Örnek sayıları farklı varyanslar homojen değil ise:\n",
    "\n",
    "### $ t = \\frac {\\overline X_1 - \\overline X_2} {S_{\\overline{\\Delta}}}  $ , \n",
    "### $ S_{\\overline{\\Delta}} = \\sqrt {\\frac{S^2_1}{n_1}+\\frac{S^2_2}{n_2}} $ "
   ]
  },
  {
   "cell_type": "markdown",
   "id": "890b61ca-9adc-4471-b671-bd009cff04a1",
   "metadata": {},
   "source": [
    "2 Varsayımımız var. \n",
    "\n",
    "Normallik ve Varyans Homojenliği "
   ]
  },
  {
   "cell_type": "markdown",
   "id": "54e3394b-ab07-4152-8de0-ff4722ffb7cf",
   "metadata": {},
   "source": [
    "# Machine Learning Modelinin Başarı Testi (AB Test)"
   ]
  },
  {
   "cell_type": "markdown",
   "id": "0deab002-248d-4852-a3b7-da0985314530",
   "metadata": {},
   "source": [
    "Problem: Bir ML projesine yatırım yapılmış. Ürettiği tahminler neticesinde ıluşan gelir ile eski sistemin ürettiği gelirler karşılaştırılıp anlamlı farklılık olup olmadığı test edilmek isteniyor.  \n",
    "\n",
    "Detaylar: \\\n",
    "Model geliştirilmiş ve web sitesine entegre edilmiş. \\\n",
    "Site kullanıcıları belirli bir kurala göre ikiye bölünmüş olsun. \\\n",
    "A grubu eski, B grubu yeni sistem. \\\n",
    "Gelir anlamında anlamlı bir iş yapılıp yapılmadığı test edilmek isteniyor. "
   ]
  },
  {
   "cell_type": "markdown",
   "id": "b02b1208-015a-423d-a8cb-16edfe402c9d",
   "metadata": {},
   "source": [
    "$ H_0: \\mu_1 = \\mu_2 $ \\\n",
    "$ H_1: \\mu_1 \\neq \\mu_2 $ "
   ]
  },
  {
   "cell_type": "markdown",
   "id": "f73ecb6e-880e-4c14-9fee-f4d1c61401c3",
   "metadata": {},
   "source": [
    "### VERI TIPI I"
   ]
  },
  {
   "cell_type": "code",
   "execution_count": 54,
   "id": "4e5432cb-8000-458f-93e7-6a95ea88c646",
   "metadata": {},
   "outputs": [
    {
     "data": {
      "text/html": [
       "<div>\n",
       "<style scoped>\n",
       "    .dataframe tbody tr th:only-of-type {\n",
       "        vertical-align: middle;\n",
       "    }\n",
       "\n",
       "    .dataframe tbody tr th {\n",
       "        vertical-align: top;\n",
       "    }\n",
       "\n",
       "    .dataframe thead th {\n",
       "        text-align: right;\n",
       "    }\n",
       "</style>\n",
       "<table border=\"1\" class=\"dataframe\">\n",
       "  <thead>\n",
       "    <tr style=\"text-align: right;\">\n",
       "      <th></th>\n",
       "      <th>A</th>\n",
       "      <th>B</th>\n",
       "    </tr>\n",
       "  </thead>\n",
       "  <tbody>\n",
       "    <tr>\n",
       "      <th>0</th>\n",
       "      <td>30</td>\n",
       "      <td>37</td>\n",
       "    </tr>\n",
       "    <tr>\n",
       "      <th>1</th>\n",
       "      <td>21</td>\n",
       "      <td>39</td>\n",
       "    </tr>\n",
       "    <tr>\n",
       "      <th>2</th>\n",
       "      <td>21</td>\n",
       "      <td>31</td>\n",
       "    </tr>\n",
       "    <tr>\n",
       "      <th>3</th>\n",
       "      <td>27</td>\n",
       "      <td>31</td>\n",
       "    </tr>\n",
       "    <tr>\n",
       "      <th>4</th>\n",
       "      <td>29</td>\n",
       "      <td>34</td>\n",
       "    </tr>\n",
       "  </tbody>\n",
       "</table>\n",
       "</div>"
      ],
      "text/plain": [
       "    A   B\n",
       "0  30  37\n",
       "1  21  39\n",
       "2  21  31\n",
       "3  27  31\n",
       "4  29  34"
      ]
     },
     "execution_count": 54,
     "metadata": {},
     "output_type": "execute_result"
    }
   ],
   "source": [
    "A = pd.DataFrame([30,21,21,27,29,30,20,20,27,32,35,22,24,23,\n",
    "                  25,27,23,27,23,25,21,18,24,26,33,26,27,28,19,25])\n",
    "\n",
    "B = pd.DataFrame([37,39,31,31,34,38,30,36,29,28,38,28,37,37,30,32,31,31,27,\n",
    "                  32,33,33,33,31,32,23,26,32,33,29])\n",
    "\n",
    "A_B = pd.concat([A, B], axis = 1)\n",
    "\n",
    "A_B.columns = [\"A\", \"B\"]\n",
    "\n",
    "A_B.head()"
   ]
  },
  {
   "cell_type": "markdown",
   "id": "743ed27f-fefe-404c-b968-86b2ea7097c0",
   "metadata": {},
   "source": [
    "### Veri Tipi II\n",
    "\n",
    "Her zaman düzenli gelmeyebileceğinden verilerin, verileri düzeltme kısmını yapmak gerekiyor. "
   ]
  },
  {
   "cell_type": "code",
   "execution_count": 56,
   "id": "67c9df23-3fe8-4d51-b08d-c7073986c30c",
   "metadata": {},
   "outputs": [
    {
     "name": "stdout",
     "output_type": "stream",
     "text": [
      "   gelir GRUP\n",
      "0     30    A\n",
      "1     21    A\n",
      "2     21    A\n",
      "3     27    A\n",
      "4     29    A\n",
      "    gelir GRUP\n",
      "25     23    B\n",
      "26     26    B\n",
      "27     32    B\n",
      "28     33    B\n",
      "29     29    B\n"
     ]
    }
   ],
   "source": [
    "A = pd.DataFrame([30,21,21,27,29,30,20,20,27,32,35,22,24,23,\n",
    "                  25,27,23,27,23,25,21,18,24,26,33,26,27,28,19,25])\n",
    "\n",
    "B = pd.DataFrame([37,39,31,31,34,38,30,36,29,28,38,28,37,37,30,32,31,31,27,\n",
    "                  32,33,33,33,31,32,23,26,32,33,29])\n",
    "\n",
    "#A ve # A'nın grubu\n",
    "GRUP_A = np.arange(len(A))\n",
    "GRUP_A = pd.DataFrame(GRUP_A)\n",
    "GRUP_A[:] = \"A\"\n",
    "A = pd.concat([A, GRUP_A], axis = 1)\n",
    "\n",
    "#B ve B'nin Grubu\n",
    "GRUP_B = np.arange(len(B))\n",
    "GRUP_B = pd.DataFrame(GRUP_B)\n",
    "GRUP_B[:] = \"B\"\n",
    "B = pd.concat([B, GRUP_B], axis = 1)\n",
    "\n",
    "#Tüm veri \n",
    "\n",
    "AB = pd.concat([A,B])\n",
    "AB.columns = [\"gelir\",\"GRUP\"]\n",
    "print(AB.head())\n",
    "print(AB.tail())"
   ]
  },
  {
   "cell_type": "code",
   "execution_count": 57,
   "id": "53ec3c04-d0dc-463a-a634-579e5d6d9bab",
   "metadata": {},
   "outputs": [
    {
     "data": {
      "image/png": "[encoded data removed]",
      "text/plain": [
       "<Figure size 640x480 with 1 Axes>"
      ]
     },
     "metadata": {},
     "output_type": "display_data"
    }
   ],
   "source": [
    "import seaborn as sns\n",
    "sns.boxplot(x = \"GRUP\", y = \"gelir\", data = AB);"
   ]
  },
  {
   "cell_type": "code",
   "execution_count": 62,
   "id": "e386b34b-427b-4147-8d9e-a015f65a957a",
   "metadata": {},
   "outputs": [
    {
     "data": {
      "text/html": [
       "<div>\n",
       "<style scoped>\n",
       "    .dataframe tbody tr th:only-of-type {\n",
       "        vertical-align: middle;\n",
       "    }\n",
       "\n",
       "    .dataframe tbody tr th {\n",
       "        vertical-align: top;\n",
       "    }\n",
       "\n",
       "    .dataframe thead th {\n",
       "        text-align: right;\n",
       "    }\n",
       "</style>\n",
       "<table border=\"1\" class=\"dataframe\">\n",
       "  <thead>\n",
       "    <tr style=\"text-align: right;\">\n",
       "      <th></th>\n",
       "      <th>A</th>\n",
       "      <th>B</th>\n",
       "    </tr>\n",
       "  </thead>\n",
       "  <tbody>\n",
       "    <tr>\n",
       "      <th>0</th>\n",
       "      <td>30</td>\n",
       "      <td>37</td>\n",
       "    </tr>\n",
       "    <tr>\n",
       "      <th>1</th>\n",
       "      <td>21</td>\n",
       "      <td>39</td>\n",
       "    </tr>\n",
       "    <tr>\n",
       "      <th>2</th>\n",
       "      <td>21</td>\n",
       "      <td>31</td>\n",
       "    </tr>\n",
       "    <tr>\n",
       "      <th>3</th>\n",
       "      <td>27</td>\n",
       "      <td>31</td>\n",
       "    </tr>\n",
       "    <tr>\n",
       "      <th>4</th>\n",
       "      <td>29</td>\n",
       "      <td>34</td>\n",
       "    </tr>\n",
       "  </tbody>\n",
       "</table>\n",
       "</div>"
      ],
      "text/plain": [
       "    A   B\n",
       "0  30  37\n",
       "1  21  39\n",
       "2  21  31\n",
       "3  27  31\n",
       "4  29  34"
      ]
     },
     "execution_count": 62,
     "metadata": {},
     "output_type": "execute_result"
    }
   ],
   "source": [
    "A_B.head()"
   ]
  },
  {
   "cell_type": "code",
   "execution_count": 63,
   "id": "28136a2f-e933-4d89-8087-0be7c63dbbb1",
   "metadata": {},
   "outputs": [
    {
     "data": {
      "text/html": [
       "<div>\n",
       "<style scoped>\n",
       "    .dataframe tbody tr th:only-of-type {\n",
       "        vertical-align: middle;\n",
       "    }\n",
       "\n",
       "    .dataframe tbody tr th {\n",
       "        vertical-align: top;\n",
       "    }\n",
       "\n",
       "    .dataframe thead th {\n",
       "        text-align: right;\n",
       "    }\n",
       "</style>\n",
       "<table border=\"1\" class=\"dataframe\">\n",
       "  <thead>\n",
       "    <tr style=\"text-align: right;\">\n",
       "      <th></th>\n",
       "      <th>gelir</th>\n",
       "      <th>GRUP</th>\n",
       "    </tr>\n",
       "  </thead>\n",
       "  <tbody>\n",
       "    <tr>\n",
       "      <th>0</th>\n",
       "      <td>30</td>\n",
       "      <td>A</td>\n",
       "    </tr>\n",
       "    <tr>\n",
       "      <th>1</th>\n",
       "      <td>21</td>\n",
       "      <td>A</td>\n",
       "    </tr>\n",
       "    <tr>\n",
       "      <th>2</th>\n",
       "      <td>21</td>\n",
       "      <td>A</td>\n",
       "    </tr>\n",
       "    <tr>\n",
       "      <th>3</th>\n",
       "      <td>27</td>\n",
       "      <td>A</td>\n",
       "    </tr>\n",
       "    <tr>\n",
       "      <th>4</th>\n",
       "      <td>29</td>\n",
       "      <td>A</td>\n",
       "    </tr>\n",
       "  </tbody>\n",
       "</table>\n",
       "</div>"
      ],
      "text/plain": [
       "   gelir GRUP\n",
       "0     30    A\n",
       "1     21    A\n",
       "2     21    A\n",
       "3     27    A\n",
       "4     29    A"
      ]
     },
     "execution_count": 63,
     "metadata": {},
     "output_type": "execute_result"
    }
   ],
   "source": [
    "AB.head()"
   ]
  },
  {
   "cell_type": "code",
   "execution_count": 58,
   "id": "e21d4943-091e-42b5-a2b4-c00c3f1f5199",
   "metadata": {},
   "outputs": [],
   "source": [
    "#normallik varsayımı"
   ]
  },
  {
   "cell_type": "code",
   "execution_count": 59,
   "id": "21dcbfce-924a-4667-8d00-d6aec57171e2",
   "metadata": {},
   "outputs": [],
   "source": [
    "from scipy.stats import shapiro"
   ]
  },
  {
   "cell_type": "code",
   "execution_count": 60,
   "id": "0256ac94-ea88-42d0-80bc-4e7b9db3a888",
   "metadata": {},
   "outputs": [
    {
     "data": {
      "text/plain": [
       "ShapiroResult(statistic=0.9761064052581787, pvalue=0.715302586555481)"
      ]
     },
     "execution_count": 60,
     "metadata": {},
     "output_type": "execute_result"
    }
   ],
   "source": [
    "shapiro(A_B.A)"
   ]
  },
  {
   "cell_type": "code",
   "execution_count": 64,
   "id": "86df32f9-9eb1-4c7b-ba34-078fa29e3b55",
   "metadata": {},
   "outputs": [
    {
     "data": {
      "text/plain": [
       "ShapiroResult(statistic=0.9675019383430481, pvalue=0.4732796251773834)"
      ]
     },
     "execution_count": 64,
     "metadata": {},
     "output_type": "execute_result"
    }
   ],
   "source": [
    "shapiro(A_B.B)"
   ]
  },
  {
   "cell_type": "markdown",
   "id": "16df071f-f73d-426e-898b-0031ab575b12",
   "metadata": {},
   "source": [
    "Normallik varsayımı sağlanmaktadır. "
   ]
  },
  {
   "cell_type": "code",
   "execution_count": 66,
   "id": "e61d54a5-d39b-4eb4-b23a-35f43c0e03eb",
   "metadata": {},
   "outputs": [],
   "source": [
    "#varyans homojenliği varsayımı"
   ]
  },
  {
   "cell_type": "markdown",
   "id": "6b661c70-b23a-4459-a4eb-1344ce530311",
   "metadata": {},
   "source": [
    "H0: Varyanslar Homojendir \\\n",
    "H1: Varyanslar Homojen Değildir"
   ]
  },
  {
   "cell_type": "code",
   "execution_count": 67,
   "id": "525ea20d-6ffb-40bc-b76f-566ca4d18452",
   "metadata": {},
   "outputs": [
    {
     "data": {
      "text/plain": [
       "LeveneResult(statistic=0.45971297251664994, pvalue=0.5004542455048462)"
      ]
     },
     "execution_count": 67,
     "metadata": {},
     "output_type": "execute_result"
    }
   ],
   "source": [
    "stats.levene(A_B.A, A_B.B)"
   ]
  },
  {
   "cell_type": "markdown",
   "id": "c14e7fa5-f098-49f1-adbb-a53f6e09d1a1",
   "metadata": {},
   "source": [
    "H0 hipotezini reddedemiyoruz, varyans homejenliği sağlanmış demektir. "
   ]
  },
  {
   "cell_type": "markdown",
   "id": "8ae887eb-068b-4387-84ab-e76eeb6aa241",
   "metadata": {},
   "source": [
    "#### Hipotez Testi"
   ]
  },
  {
   "cell_type": "code",
   "execution_count": 68,
   "id": "4db63db4-a44b-42f5-a0cc-2396d69c6e2c",
   "metadata": {},
   "outputs": [
    {
     "data": {
      "text/plain": [
       "Ttest_indResult(statistic=-6.513886081015109, pvalue=1.91129330748955e-08)"
      ]
     },
     "execution_count": 68,
     "metadata": {},
     "output_type": "execute_result"
    }
   ],
   "source": [
    "stats.ttest_ind(A_B[\"A\"], A_B[\"B\"], equal_var = True)"
   ]
  },
  {
   "cell_type": "markdown",
   "id": "4e11c496-fd19-44a2-85a9-cf1a9a702c25",
   "metadata": {},
   "source": [
    "Sonuç: pvalue değeri 0.05'den küçük olduğundna dolayı farklılık olmadığını iddia edilen H0 hipotezi reddedilir. "
   ]
  },
  {
   "cell_type": "code",
   "execution_count": 71,
   "id": "765ae804-a2fb-4ab5-af11-1618b5bc5e67",
   "metadata": {},
   "outputs": [
    {
     "name": "stdout",
     "output_type": "stream",
     "text": [
      "Test İstatistiği = -6.5139, p-değeri = 0.0000\n"
     ]
    }
   ],
   "source": [
    "test_istatistigi, pvalue = stats.ttest_ind(A_B[\"A\"], A_B[\"B\"], equal_var = True)\n",
    "print('Test İstatistiği = %.4f, p-değeri = %.4f' % (test_istatistigi, pvalue))"
   ]
  },
  {
   "cell_type": "markdown",
   "id": "fe2bccbb-f44a-4243-ab58-c5d38bb0f310",
   "metadata": {},
   "source": [
    "Sonuç: Eski sistem ile yeni sistem arasında fark vardır. Yeni sistem lehine."
   ]
  },
  {
   "cell_type": "markdown",
   "id": "0abcc765-61ed-4c12-8741-a3d3b27918d8",
   "metadata": {},
   "source": [
    "### Nonparametrik Bağımsız İki Örneklem Testi\n",
    "\n",
    "Normallik varsayımı ve homojenlik varsayımı sonucu negatif oldu ve kullanılamıyor ise nonparametrik kullanılır."
   ]
  },
  {
   "cell_type": "code",
   "execution_count": 72,
   "id": "43c56ac2-3c39-4835-a51d-6c80014bd81b",
   "metadata": {},
   "outputs": [
    {
     "data": {
      "text/plain": [
       "MannwhitneyuResult(statistic=107.0, pvalue=3.9018515002516224e-07)"
      ]
     },
     "execution_count": 72,
     "metadata": {},
     "output_type": "execute_result"
    }
   ],
   "source": [
    "stats.mannwhitneyu(A_B[\"A\"], A_B[\"B\"])"
   ]
  },
  {
   "cell_type": "code",
   "execution_count": 74,
   "id": "0dc7ec87-2357-4a66-829b-97b4035afae1",
   "metadata": {},
   "outputs": [
    {
     "name": "stdout",
     "output_type": "stream",
     "text": [
      "Test İstatistiği = 107.0000, p-değeri = 0.0000\n"
     ]
    }
   ],
   "source": [
    "test_istatistigi, pvalue = stats.mannwhitneyu(A_B[\"A\"], A_B[\"B\"])\n",
    "print('Test İstatistiği = %.4f, p-değeri = %.4f' % (test_istatistigi, pvalue))"
   ]
  },
  {
   "cell_type": "markdown",
   "id": "4e4117a1-fb99-476b-8e18-14c6edf33d91",
   "metadata": {},
   "source": [
    "### Bağımlı İki Örneklem T Testi\n",
    "\n",
    "Bağımlı iki grup ortalaması arasında karşılaştırma yapılmak istenildiğinde kullanılır."
   ]
  },
  {
   "cell_type": "markdown",
   "id": "aaad2f9f-6cdd-4396-8ba4-dc99c9e0d126",
   "metadata": {},
   "source": [
    "$ H_0: \\mu_ö = \\mu_s $  \\\n",
    "$ H_1: \\mu_ö \\neq \\mu_s $ \n",
    "\n",
    "$ H_0: \\mu_ö <= \\mu_s $ \\\n",
    "$ H_1: \\mu_ö > \\mu_s $\n",
    "\n",
    "$ H_0: \\mu_ö >= \\mu_s $ \\\n",
    "$ H_1: \\mu_ö < \\mu_s $"
   ]
  },
  {
   "cell_type": "markdown",
   "id": "6335b57c-5430-4dde-89af-ef3cf767bc14",
   "metadata": {},
   "source": [
    "## $ t = \\frac {\\overline X_D  - \\mu_0} {\\frac {S_D}{\\sqrt n}} $ \n",
    "\n",
    "Burada D aradaki farkı ifade ediyor. \n",
    "\n",
    "Normallik ve Varyans Homojenliği varsayımları. "
   ]
  },
  {
   "cell_type": "markdown",
   "id": "380b7614-c174-443c-a2e3-27d065adf2e5",
   "metadata": {},
   "source": [
    "### Şirket İçi Eğitimin Performans Etkisi Ölçümü \n",
    "\n",
    "Eğitim öncesi satış personeli performansı ölçüşüyor ve eğitim sonrası satış personeli performasına etkisi. \n",
    "\n",
    "Problem: Belirli uğraşlar sonucunda alınan bir eğitimin katma değer sağlayıp sağlamadığı ölçülmek isteniyor.\n",
    "\n",
    "Detaylar: Bir departman bir konuda eğitim talep ediyor. Gerekli ve gereksiz değerlendirmeleri neticesinde eğitim alınıyor. Eğitimden önce ve sonra olacak şekilde gerekli ölçümler yapılıyor. Eğitim sonrasında eğitimin sağladığı katma değer test edilmek isteniyor. \n"
   ]
  },
  {
   "cell_type": "code",
   "execution_count": 105,
   "id": "bfaee6e5-d6d7-4b96-b96a-ef4ed5b46458",
   "metadata": {},
   "outputs": [],
   "source": [
    "import numpy as np\n",
    "\n",
    "# oncesi = np.random.randint(116,135,50)\n",
    "# sonrasi = np.random.randint(116,135,50)"
   ]
  },
  {
   "cell_type": "code",
   "execution_count": 85,
   "id": "ec69a933-2b02-4477-8d23-b76d5fdb2e53",
   "metadata": {},
   "outputs": [
    {
     "data": {
      "text/plain": [
       "array([120, 129, 126, 125, 125, 131, 130, 119, 127, 120, 125, 127, 127,\n",
       "       118, 131, 127, 116, 134, 123, 125, 116, 134, 117, 130, 126, 129,\n",
       "       131, 134, 117, 120])"
      ]
     },
     "execution_count": 85,
     "metadata": {},
     "output_type": "execute_result"
    }
   ],
   "source": [
    "#oncesi[0:30]"
   ]
  },
  {
   "cell_type": "code",
   "execution_count": 107,
   "id": "7bc4db27-bc1e-447d-bf0f-7430b3694b6e",
   "metadata": {},
   "outputs": [
    {
     "data": {
      "text/plain": [
       "array([132, 133, 132, 131, 128, 131, 133, 117, 124, 120, 124, 124, 118,\n",
       "       118, 116, 133, 118, 126, 117, 121, 119, 122, 120, 119, 118, 133,\n",
       "       120, 116, 132, 117])"
      ]
     },
     "execution_count": 107,
     "metadata": {},
     "output_type": "execute_result"
    }
   ],
   "source": [
    "# sonrasi[0:30]"
   ]
  },
  {
   "cell_type": "code",
   "execution_count": 123,
   "id": "4ab051f3-d14c-4164-8d9f-ad15f4d0feee",
   "metadata": {},
   "outputs": [],
   "source": [
    "oncesi = pd.DataFrame([120, 124, 113, 127, 124, 128, 120, 125, 133, 126, 127, 123,\n",
    "             122, 112, 126, 123, 125, 132, 128, 120, 130, 132, 122, 121, 122, 112,\n",
    "             127, 122, 117, 100])\n",
    "\n",
    "sonrasi = pd.DataFrame([132, 133, 132, 131, 128, 131, 133, 130, 124, 134, 124, 130, 128,\n",
    "       127, 131, 133, 128, 126, 117, 136, 135, 122, 120, 134, 118, 133,\n",
    "       120, 129, 132, 128])"
   ]
  },
  {
   "cell_type": "code",
   "execution_count": 124,
   "id": "a8589340-6b93-4a82-8edb-ff4c9b9b9492",
   "metadata": {},
   "outputs": [
    {
     "data": {
      "text/html": [
       "<div>\n",
       "<style scoped>\n",
       "    .dataframe tbody tr th:only-of-type {\n",
       "        vertical-align: middle;\n",
       "    }\n",
       "\n",
       "    .dataframe tbody tr th {\n",
       "        vertical-align: top;\n",
       "    }\n",
       "\n",
       "    .dataframe thead th {\n",
       "        text-align: right;\n",
       "    }\n",
       "</style>\n",
       "<table border=\"1\" class=\"dataframe\">\n",
       "  <thead>\n",
       "    <tr style=\"text-align: right;\">\n",
       "      <th></th>\n",
       "      <th>0</th>\n",
       "    </tr>\n",
       "  </thead>\n",
       "  <tbody>\n",
       "    <tr>\n",
       "      <th>0</th>\n",
       "      <td>120</td>\n",
       "    </tr>\n",
       "    <tr>\n",
       "      <th>1</th>\n",
       "      <td>124</td>\n",
       "    </tr>\n",
       "    <tr>\n",
       "      <th>2</th>\n",
       "      <td>113</td>\n",
       "    </tr>\n",
       "    <tr>\n",
       "      <th>3</th>\n",
       "      <td>127</td>\n",
       "    </tr>\n",
       "    <tr>\n",
       "      <th>4</th>\n",
       "      <td>124</td>\n",
       "    </tr>\n",
       "  </tbody>\n",
       "</table>\n",
       "</div>"
      ],
      "text/plain": [
       "     0\n",
       "0  120\n",
       "1  124\n",
       "2  113\n",
       "3  127\n",
       "4  124"
      ]
     },
     "execution_count": 124,
     "metadata": {},
     "output_type": "execute_result"
    }
   ],
   "source": [
    "oncesi[0:5]"
   ]
  },
  {
   "cell_type": "code",
   "execution_count": 125,
   "id": "07fc1e94-db86-4419-a6f8-68511bc91a68",
   "metadata": {},
   "outputs": [
    {
     "data": {
      "text/html": [
       "<div>\n",
       "<style scoped>\n",
       "    .dataframe tbody tr th:only-of-type {\n",
       "        vertical-align: middle;\n",
       "    }\n",
       "\n",
       "    .dataframe tbody tr th {\n",
       "        vertical-align: top;\n",
       "    }\n",
       "\n",
       "    .dataframe thead th {\n",
       "        text-align: right;\n",
       "    }\n",
       "</style>\n",
       "<table border=\"1\" class=\"dataframe\">\n",
       "  <thead>\n",
       "    <tr style=\"text-align: right;\">\n",
       "      <th></th>\n",
       "      <th>0</th>\n",
       "    </tr>\n",
       "  </thead>\n",
       "  <tbody>\n",
       "    <tr>\n",
       "      <th>0</th>\n",
       "      <td>132</td>\n",
       "    </tr>\n",
       "    <tr>\n",
       "      <th>1</th>\n",
       "      <td>133</td>\n",
       "    </tr>\n",
       "    <tr>\n",
       "      <th>2</th>\n",
       "      <td>132</td>\n",
       "    </tr>\n",
       "    <tr>\n",
       "      <th>3</th>\n",
       "      <td>131</td>\n",
       "    </tr>\n",
       "    <tr>\n",
       "      <th>4</th>\n",
       "      <td>128</td>\n",
       "    </tr>\n",
       "  </tbody>\n",
       "</table>\n",
       "</div>"
      ],
      "text/plain": [
       "     0\n",
       "0  132\n",
       "1  133\n",
       "2  132\n",
       "3  131\n",
       "4  128"
      ]
     },
     "execution_count": 125,
     "metadata": {},
     "output_type": "execute_result"
    }
   ],
   "source": [
    "sonrasi[0:5]"
   ]
  },
  {
   "cell_type": "code",
   "execution_count": 126,
   "id": "127fc4c7-500a-4f55-a398-80f4d88e324b",
   "metadata": {},
   "outputs": [
    {
     "name": "stdout",
     "output_type": "stream",
     "text": [
      " 'AYRIK' Veri seti:\n",
      "\n",
      "     ONCESI  SONRASI\n",
      "0     120      132\n",
      "1     124      133\n",
      "2     113      132\n",
      "3     127      131\n",
      "4     124      128 \n",
      "\n",
      "\n",
      "'BIRLIKTE' veri Seti: \n",
      "\n",
      "    PERFORMANS ONCESI_SONRASI\n",
      "0         120         ONCESI\n",
      "1         124         ONCESI\n",
      "2         113         ONCESI\n",
      "3         127         ONCESI\n",
      "4         124         ONCESI \n",
      "\n"
     ]
    }
   ],
   "source": [
    "#BİRİNCİ VERİ SETİ\n",
    "AYRIK = pd.concat([oncesi,sonrasi], axis = 1)\n",
    "AYRIK.columns = [\"ONCESI\",\"SONRASI\"]\n",
    "print(\" 'AYRIK' Veri seti:\\n\\n \", AYRIK.head(), \"\\n\\n\")\n",
    "\n",
    "#IKINCI VERİ SETİ\n",
    "#ONCESİ FLAG/TAG'INI OLUŞTURMA\n",
    "GRUP_ONCESİ = np.arange(len(oncesi))\n",
    "GRUP_ONCESİ = pd.DataFrame(GRUP_ONCESİ)\n",
    "GRUP_ONCESİ[:] = \"ONCESI\"\n",
    "\n",
    "#FLAG VE ONCESİ DEĞERLERİNİ BİR ARAYA GETİRME \n",
    "A = pd.concat([oncesi, GRUP_ONCESİ], axis = 1)\n",
    "\n",
    "#SONRASI FLAG/TAG'INI OLUŞTURMA\n",
    "GRUP_SONRASI = np.arange(len(sonrasi))\n",
    "GRUP_SONRASI = pd.DataFrame(GRUP_SONRASI)\n",
    "GRUP_SONRASI[:] = \"SONRASI\"\n",
    "\n",
    "#FlAG VE SONRASI DEGERLERINI BİR ARAYA GETİRME\n",
    "B = pd.concat([sonrasi, GRUP_SONRASI], axis = 1)\n",
    "\n",
    "#TÜM VERİYİ BİR ARAYA GETİRME\n",
    "BIRLIKTE = pd.concat([A, B])\n",
    "BIRLIKTE\n",
    "\n",
    "#ISIMLENDIRME\n",
    "BIRLIKTE.columns = [\"PERFORMANS\", \"ONCESI_SONRASI\"]\n",
    "print(\"'BIRLIKTE' veri Seti: \\n\\n\", BIRLIKTE.head(), \"\\n\")"
   ]
  },
  {
   "cell_type": "code",
   "execution_count": 127,
   "id": "b7c03c69-01e3-4d54-a58e-a0407ec3298e",
   "metadata": {},
   "outputs": [
    {
     "data": {
      "image/png": "[encoded data removed]",
      "text/plain": [
       "<Figure size 640x480 with 1 Axes>"
      ]
     },
     "metadata": {},
     "output_type": "display_data"
    }
   ],
   "source": [
    "import seaborn as sns\n",
    "sns.boxplot(x = \"ONCESI_SONRASI\", y = \"PERFORMANS\", data = BIRLIKTE);"
   ]
  },
  {
   "cell_type": "code",
   "execution_count": 128,
   "id": "d98e08ea-d824-460d-82ff-bf47c1cd8eb2",
   "metadata": {},
   "outputs": [],
   "source": [
    "### Varsayım Kontrolleri"
   ]
  },
  {
   "cell_type": "code",
   "execution_count": 129,
   "id": "e13ccf2d-efdb-44d5-b24f-ca30e54c4ad4",
   "metadata": {},
   "outputs": [],
   "source": [
    "from scipy.stats import shapiro"
   ]
  },
  {
   "cell_type": "code",
   "execution_count": 130,
   "id": "e68e3468-6580-4d36-813a-7f7cc77fa9b3",
   "metadata": {},
   "outputs": [
    {
     "data": {
      "text/plain": [
       "ShapiroResult(statistic=0.9027981758117676, pvalue=0.009838956408202648)"
      ]
     },
     "execution_count": 130,
     "metadata": {},
     "output_type": "execute_result"
    }
   ],
   "source": [
    "shapiro(AYRIK.ONCESI)"
   ]
  },
  {
   "cell_type": "code",
   "execution_count": 131,
   "id": "c68dde07-52a4-446e-9f84-5f5f6d7c989e",
   "metadata": {},
   "outputs": [
    {
     "data": {
      "text/plain": [
       "ShapiroResult(statistic=0.9176777601242065, pvalue=0.023356907069683075)"
      ]
     },
     "execution_count": 131,
     "metadata": {},
     "output_type": "execute_result"
    }
   ],
   "source": [
    "shapiro(AYRIK.SONRASI)"
   ]
  },
  {
   "cell_type": "code",
   "execution_count": 134,
   "id": "027ebef5-302a-43d0-9812-edd3b91f79fb",
   "metadata": {},
   "outputs": [
    {
     "data": {
      "text/plain": [
       "LeveneResult(statistic=0.5355734393536179, pvalue=0.4672198551377451)"
      ]
     },
     "execution_count": 134,
     "metadata": {},
     "output_type": "execute_result"
    }
   ],
   "source": [
    "import scipy.stats as stats\n",
    "stats.levene(AYRIK.ONCESI, AYRIK.SONRASI)"
   ]
  },
  {
   "cell_type": "code",
   "execution_count": 135,
   "id": "fd4b79c9-c1f5-459d-8b6f-a8d6ec91dcaa",
   "metadata": {},
   "outputs": [],
   "source": [
    "#Hipotez Testi"
   ]
  },
  {
   "cell_type": "code",
   "execution_count": 136,
   "id": "436d31ee-b1a7-434a-a9bd-7b81a2523109",
   "metadata": {},
   "outputs": [
    {
     "data": {
      "text/plain": [
       "Ttest_relResult(statistic=-3.3542121192516765, pvalue=0.0022309101110082204)"
      ]
     },
     "execution_count": 136,
     "metadata": {},
     "output_type": "execute_result"
    }
   ],
   "source": [
    "stats.ttest_rel(AYRIK.ONCESI, AYRIK.SONRASI)"
   ]
  },
  {
   "cell_type": "code",
   "execution_count": 137,
   "id": "a892fd62-531e-4e1a-a28b-a4e2d2fb3ecf",
   "metadata": {},
   "outputs": [
    {
     "name": "stdout",
     "output_type": "stream",
     "text": [
      "Test İstatistiği = -3.3542, p-değeri = 0.0022\n"
     ]
    }
   ],
   "source": [
    "test_istatistigi, pvalue = stats.ttest_rel(AYRIK.ONCESI, AYRIK.SONRASI)\n",
    "print('Test İstatistiği = %.4f, p-değeri = %.4f' % (test_istatistigi, pvalue))"
   ]
  },
  {
   "cell_type": "markdown",
   "id": "694287a2-0363-4e75-9224-ee3aa087a109",
   "metadata": {},
   "source": [
    "Sonuç: Eğitim işe yaramıştır denebilir. "
   ]
  },
  {
   "cell_type": "markdown",
   "id": "210211ed-f136-4dcc-af28-7e99e73a556a",
   "metadata": {},
   "source": [
    "### Nonparametrik Bağımlı İki örneklem Testi"
   ]
  },
  {
   "cell_type": "code",
   "execution_count": 139,
   "id": "0fa67156-2f19-49e1-8a17-b1c756befbf2",
   "metadata": {},
   "outputs": [
    {
     "data": {
      "text/plain": [
       "WilcoxonResult(statistic=93.5, pvalue=0.0032229889184236526)"
      ]
     },
     "execution_count": 139,
     "metadata": {},
     "output_type": "execute_result"
    }
   ],
   "source": [
    "stats.wilcoxon(AYRIK.ONCESI, AYRIK.SONRASI)"
   ]
  },
  {
   "cell_type": "code",
   "execution_count": 140,
   "id": "50eba2b0-98fc-4be9-b6aa-a8a4763976a7",
   "metadata": {},
   "outputs": [
    {
     "name": "stdout",
     "output_type": "stream",
     "text": [
      "Test İstatistiği = -3.3542, p-değeri = 0.0022\n"
     ]
    }
   ],
   "source": [
    "test_istatistigi, pvalue = stats.ttest_rel(AYRIK.ONCESI, AYRIK.SONRASI)\n",
    "print('Test İstatistiği = %.4f, p-değeri = %.4f' % (test_istatistigi, pvalue))"
   ]
  },
  {
   "cell_type": "markdown",
   "id": "d73f88c9-3954-412d-8a8d-318bd6e8c91d",
   "metadata": {},
   "source": [
    "Sonuç: Eğitim işe yaramıştır denebilir. "
   ]
  },
  {
   "cell_type": "markdown",
   "id": "5957c557-93a6-4af6-8655-e3a6c33f08f8",
   "metadata": {},
   "source": [
    "### İki Örneklem Oran Testi \n",
    "\n",
    "İki oran arasındaki karşılaştırma yapmak için kullanılır. \n",
    "\n",
    "$ H_0: P_1 = P_2 $  \\\n",
    "$ H_1: P_1 \\neq P_2 $ \n",
    "\n",
    "$ H_0: P_1 <= P_2 $ \\\n",
    "$ H_1: P_1 > P_2 $\n",
    "\n",
    "$ H_0: P_1 >= P_2 $ \\\n",
    "$ H_1: P_1 < P_2 $"
   ]
  },
  {
   "cell_type": "markdown",
   "id": "0b0f02f1-48cc-4933-8c28-0591cc7377db",
   "metadata": {},
   "source": [
    "### $ Z_h = \\frac {(p_1-p_2)}{\\sqrt{ p(1-p)(\\frac{1}{n_1}+{\\frac{1}{n_2}})}} $ \n",
    "\n",
    "n1>30 \\\n",
    "n2>30"
   ]
  },
  {
   "cell_type": "markdown",
   "id": "d5b5dada-9fd1-4ecc-902f-2d8168b7ed7f",
   "metadata": {},
   "source": [
    "## AB Testi (Kullanıcı Arayüz Deneyi) "
   ]
  },
  {
   "cell_type": "markdown",
   "id": "58dab8df-324e-4ab0-9d83-b2985e5d81cf",
   "metadata": {},
   "source": [
    "Bir webb sitesininde İki Buton var Hangisi daha iyi performans veriyor. \n",
    "\n",
    "Yeşil Buton verileri: \\\n",
    "1000 görüntülenme \\\n",
    "300 tıklama \n",
    "\n",
    "Kırmızı Buton verileri: \\\n",
    "1100 görüntülenme \\\n",
    "250 tıklama "
   ]
  },
  {
   "cell_type": "code",
   "execution_count": 142,
   "id": "5fed494b-de57-4b53-97cf-18bf340d1e48",
   "metadata": {},
   "outputs": [],
   "source": [
    "from statsmodels.stats.proportion import proportions_ztest"
   ]
  },
  {
   "cell_type": "code",
   "execution_count": 144,
   "id": "a50fe867-4f33-4a7b-ae1d-902d0318ac3c",
   "metadata": {},
   "outputs": [],
   "source": [
    "import numpy as np\n",
    "\n",
    "basari_sayisi = np.array([300, 250])\n",
    "gozlem_sayilari = np.array([1000, 1100])"
   ]
  },
  {
   "cell_type": "code",
   "execution_count": 145,
   "id": "5b9579da-e080-4325-bbd9-2216244975ca",
   "metadata": {},
   "outputs": [
    {
     "data": {
      "text/plain": [
       "(3.7857863233209255, 0.0001532232957772221)"
      ]
     },
     "execution_count": 145,
     "metadata": {},
     "output_type": "execute_result"
    }
   ],
   "source": [
    "proportions_ztest(count = basari_sayisi, nobs = gozlem_sayilari)"
   ]
  },
  {
   "cell_type": "markdown",
   "id": "9ef07558-46f5-4786-851d-6d16d0d1b182",
   "metadata": {},
   "source": [
    "Bu pvalue değerine göre $ H_0 $ hipotezi reddedilir. Yani iki buton arasında anlamlı bir fark vardır. Yeşil buton lehine. "
   ]
  },
  {
   "cell_type": "markdown",
   "id": "951c2d3e-907d-4ef2-9a05-ed6125b4384c",
   "metadata": {},
   "source": [
    "#### Varyans Analizi\n",
    "\n",
    "İki ya da daha fazla grup ortalaması arasında istatistiksel olarak anlamlı farklılık olup olmadığı öğrenilmek istenildiğinde kullanılır. \n",
    "\n",
    "$ H_0: \\mu_1 = \\mu_2 = \\mu_3 $ \\\n",
    "$ H_1: $ Eşit değillerdir ( en az birisi farklıdır)\n"
   ]
  },
  {
   "cell_type": "markdown",
   "id": "8e2c35b3-fe3b-4e1b-99d5-92927879c251",
   "metadata": {},
   "source": [
    "#### $ F_S = \\frac{MS_(between)}{MS_(within)} $"
   ]
  },
  {
   "cell_type": "markdown",
   "id": "6bdd209b-3967-4486-b901-ed3a4a962a15",
   "metadata": {},
   "source": [
    "3 tane varsayımımız var \\\n",
    "Gözlemlerin birbirinden bağımsız olması(grupların) \\\n",
    "Normal dağılım\n",
    "Varyans homojenliği"
   ]
  },
  {
   "cell_type": "markdown",
   "id": "50cb06d2-8dd0-485f-aa3b-f652c899dae6",
   "metadata": {},
   "source": [
    "### Anasayfa İçerik Stratejisi Belirleme\n",
    "\n",
    "Problem: \\\n",
    "Anasayfa'da geçirilen süre artırılmak isteniyor\n",
    "\n",
    "Deteylar: \\\n",
    "Bir web sitesi başarı kriterleri: ortalama ziyaret süresi, hemen çıkış oranı vb \\\n",
    "Uzun zaman geçiren kullanıcıların reklamlara daha fazla tıkladığı ve markaya olan \n",
    "bağlılıklarının arttığı biliniyor \\\n",
    "Buna yönelik olarak benzer haberler farklı resimler ya da farklı formatlarda hazırlanarak oluşturulan test gruplarına gösteriliyor. \\\n",
    "A: Doğal Şekilde, B: Yönlendirici, C: İlgi Çekici"
   ]
  },
  {
   "cell_type": "code",
   "execution_count": 154,
   "id": "8ff01ca0-83ad-415a-9b83-3ce6300ad3ab",
   "metadata": {},
   "outputs": [],
   "source": [
    "import numpy as np\n",
    "\n",
    "#Arandom = np.random.randint(20,35,30)\n",
    "#Brandom  = np.random.randint(28,35,30)\n",
    "#Crandom  = np.random.randint(25,45,30)"
   ]
  },
  {
   "cell_type": "code",
   "execution_count": 148,
   "id": "3a25713a-cb06-4a12-bf97-1db4ef142fed",
   "metadata": {},
   "outputs": [
    {
     "data": {
      "text/plain": [
       "array([33, 32, 27, 33, 34, 23, 21, 27, 27, 34, 25, 22, 32, 24, 28, 27, 20,\n",
       "       26, 27, 26])"
      ]
     },
     "execution_count": 148,
     "metadata": {},
     "output_type": "execute_result"
    }
   ],
   "source": [
    "#Arandom[0:20]"
   ]
  },
  {
   "cell_type": "code",
   "execution_count": 155,
   "id": "4b994ac5-5c45-49f1-a15c-0e4f92ca8f21",
   "metadata": {},
   "outputs": [
    {
     "data": {
      "text/plain": [
       "array([29, 33, 28, 30, 29, 31, 32, 34, 34, 32, 32, 30, 31, 32, 30, 29, 30,\n",
       "       28, 29, 28])"
      ]
     },
     "execution_count": 155,
     "metadata": {},
     "output_type": "execute_result"
    }
   ],
   "source": [
    "#Brandom[0:20]"
   ]
  },
  {
   "cell_type": "code",
   "execution_count": 153,
   "id": "321a0c39-3be2-49db-9e4f-aa26d66f9d51",
   "metadata": {},
   "outputs": [
    {
     "data": {
      "text/plain": [
       "array([35, 42, 37, 37, 37, 39, 28, 25, 36, 37, 34, 38, 41, 31, 34, 44, 31,\n",
       "       31, 41, 28])"
      ]
     },
     "execution_count": 153,
     "metadata": {},
     "output_type": "execute_result"
    }
   ],
   "source": [
    "#Crandom[0:20]"
   ]
  },
  {
   "cell_type": "code",
   "execution_count": 156,
   "id": "6df9966d-f86d-4e1d-acf7-5af3d04e0c66",
   "metadata": {},
   "outputs": [
    {
     "data": {
      "text/html": [
       "<div>\n",
       "<style scoped>\n",
       "    .dataframe tbody tr th:only-of-type {\n",
       "        vertical-align: middle;\n",
       "    }\n",
       "\n",
       "    .dataframe tbody tr th {\n",
       "        vertical-align: top;\n",
       "    }\n",
       "\n",
       "    .dataframe thead th {\n",
       "        text-align: right;\n",
       "    }\n",
       "</style>\n",
       "<table border=\"1\" class=\"dataframe\">\n",
       "  <thead>\n",
       "    <tr style=\"text-align: right;\">\n",
       "      <th></th>\n",
       "      <th>GRUP_A</th>\n",
       "      <th>GRUP_B</th>\n",
       "      <th>GRUP_C</th>\n",
       "    </tr>\n",
       "  </thead>\n",
       "  <tbody>\n",
       "    <tr>\n",
       "      <th>0</th>\n",
       "      <td>33</td>\n",
       "      <td>29</td>\n",
       "      <td>35</td>\n",
       "    </tr>\n",
       "    <tr>\n",
       "      <th>1</th>\n",
       "      <td>32</td>\n",
       "      <td>33</td>\n",
       "      <td>42</td>\n",
       "    </tr>\n",
       "    <tr>\n",
       "      <th>2</th>\n",
       "      <td>27</td>\n",
       "      <td>28</td>\n",
       "      <td>37</td>\n",
       "    </tr>\n",
       "    <tr>\n",
       "      <th>3</th>\n",
       "      <td>33</td>\n",
       "      <td>30</td>\n",
       "      <td>37</td>\n",
       "    </tr>\n",
       "    <tr>\n",
       "      <th>4</th>\n",
       "      <td>34</td>\n",
       "      <td>29</td>\n",
       "      <td>37</td>\n",
       "    </tr>\n",
       "  </tbody>\n",
       "</table>\n",
       "</div>"
      ],
      "text/plain": [
       "   GRUP_A  GRUP_B  GRUP_C\n",
       "0      33      29      35\n",
       "1      32      33      42\n",
       "2      27      28      37\n",
       "3      33      30      37\n",
       "4      34      29      37"
      ]
     },
     "execution_count": 156,
     "metadata": {},
     "output_type": "execute_result"
    }
   ],
   "source": [
    "A = pd.DataFrame([33, 32, 27, 33, 34, 23, 21, 27, 27, 34, 25, 22, 32, 24, 28, 27, 20,\n",
    "       26, 27, 26])\n",
    "\n",
    "B = pd.DataFrame([29, 33, 28, 30, 29, 31, 32, 34, 34, 32, 32, 30, 31, 32, 30, 29, 30,\n",
    "       28, 29, 28])\n",
    "\n",
    "C = pd.DataFrame([35, 42, 37, 37, 37, 39, 28, 25, 36, 37, 34, 38, 41, 31, 34, 44, 31,\n",
    "       31, 41, 28])\n",
    "\n",
    "dfs = [A, B, C]\n",
    "\n",
    "ABC = pd.concat(dfs, axis = 1)\n",
    "ABC.columns = [\"GRUP_A\", \"GRUP_B\", \"GRUP_C\"]\n",
    "ABC.head()\n"
   ]
  },
  {
   "cell_type": "code",
   "execution_count": 163,
   "id": "5cd0c5b0-8138-41ca-a4b7-d6e88e651b93",
   "metadata": {},
   "outputs": [],
   "source": [
    "#Varsayım Kontrolü\n",
    "#shapiro ve levene"
   ]
  },
  {
   "cell_type": "code",
   "execution_count": 158,
   "id": "015dd731-fbca-4d52-9ef4-5c30be4c8d33",
   "metadata": {},
   "outputs": [],
   "source": [
    "from scipy.stats import shapiro"
   ]
  },
  {
   "cell_type": "code",
   "execution_count": 159,
   "id": "9cc890d0-2fc6-47bd-ad09-ae5728dd33f1",
   "metadata": {},
   "outputs": [
    {
     "data": {
      "text/plain": [
       "ShapiroResult(statistic=0.9296452403068542, pvalue=0.15200752019882202)"
      ]
     },
     "execution_count": 159,
     "metadata": {},
     "output_type": "execute_result"
    }
   ],
   "source": [
    "shapiro(ABC[\"GRUP_A\"])"
   ]
  },
  {
   "cell_type": "code",
   "execution_count": 160,
   "id": "660a7105-c7e7-4c42-8a10-a4508a87e734",
   "metadata": {},
   "outputs": [
    {
     "data": {
      "text/plain": [
       "ShapiroResult(statistic=0.9278803467750549, pvalue=0.14056317508220673)"
      ]
     },
     "execution_count": 160,
     "metadata": {},
     "output_type": "execute_result"
    }
   ],
   "source": [
    "shapiro(ABC[\"GRUP_B\"])"
   ]
  },
  {
   "cell_type": "code",
   "execution_count": 161,
   "id": "f4de24cc-59f1-4de1-89c9-0c88d8000714",
   "metadata": {},
   "outputs": [
    {
     "data": {
      "text/plain": [
       "ShapiroResult(statistic=0.9700323343276978, pvalue=0.7555575370788574)"
      ]
     },
     "execution_count": 161,
     "metadata": {},
     "output_type": "execute_result"
    }
   ],
   "source": [
    "shapiro(ABC[\"GRUP_C\"])"
   ]
  },
  {
   "cell_type": "markdown",
   "id": "dc6f795e-6d74-447c-9163-542a0d96bd01",
   "metadata": {},
   "source": [
    "3 grup için de pvalue değeri 0.05 den büyük olduğu için $ H_0 $ hipotesini reddedemiyoruz. Normallik varsayımı sağlanmaktadır."
   ]
  },
  {
   "cell_type": "code",
   "execution_count": 166,
   "id": "149d5fec-ef1f-4b50-a2ab-de7d8cb0d419",
   "metadata": {},
   "outputs": [
    {
     "data": {
      "text/plain": [
       "LeveneResult(statistic=4.904633256787789, pvalue=0.010828974474449929)"
      ]
     },
     "execution_count": 166,
     "metadata": {},
     "output_type": "execute_result"
    }
   ],
   "source": [
    "import scipy.stats as stats\n",
    "\n",
    "stats.levene(ABC[\"GRUP_A\"], ABC[\"GRUP_B\"], ABC[\"GRUP_C\"])"
   ]
  },
  {
   "cell_type": "markdown",
   "id": "ccbb64f3-daf6-41b9-a55e-1e4bd6e472bb",
   "metadata": {},
   "source": [
    "Varyanslar homojendir diyen $H_0 $ hipotezi reddedilmiştir. "
   ]
  },
  {
   "cell_type": "markdown",
   "id": "27259892-ea6d-49d0-89c2-18e82bda2ab5",
   "metadata": {},
   "source": [
    "## Hipotez Testi\n"
   ]
  },
  {
   "cell_type": "code",
   "execution_count": 167,
   "id": "1360aa9c-65cd-4fc3-9954-540631b203da",
   "metadata": {},
   "outputs": [],
   "source": [
    "from scipy.stats import f_oneway"
   ]
  },
  {
   "cell_type": "code",
   "execution_count": 168,
   "id": "0933e599-6d37-4e59-84ec-8336ac713ca5",
   "metadata": {},
   "outputs": [
    {
     "data": {
      "text/plain": [
       "F_onewayResult(statistic=19.641647148537512, pvalue=3.245126013713207e-07)"
      ]
     },
     "execution_count": 168,
     "metadata": {},
     "output_type": "execute_result"
    }
   ],
   "source": [
    "f_oneway(ABC[\"GRUP_A\"], ABC[\"GRUP_B\"], ABC[\"GRUP_C\"])"
   ]
  },
  {
   "cell_type": "code",
   "execution_count": 170,
   "id": "08ed6994-6fa1-46f7-a3f8-ebab07ea918e",
   "metadata": {},
   "outputs": [
    {
     "name": "stdout",
     "output_type": "stream",
     "text": [
      "0.00000\n"
     ]
    }
   ],
   "source": [
    "print('{:.5f}'.format(f_oneway(ABC[\"GRUP_A\"], ABC[\"GRUP_B\"], ABC[\"GRUP_C\"])[1]))"
   ]
  },
  {
   "cell_type": "code",
   "execution_count": 172,
   "id": "d38c8c2b-7769-4c49-9f64-d8070ff64447",
   "metadata": {},
   "outputs": [
    {
     "data": {
      "text/html": [
       "<div>\n",
       "<style scoped>\n",
       "    .dataframe tbody tr th:only-of-type {\n",
       "        vertical-align: middle;\n",
       "    }\n",
       "\n",
       "    .dataframe tbody tr th {\n",
       "        vertical-align: top;\n",
       "    }\n",
       "\n",
       "    .dataframe thead th {\n",
       "        text-align: right;\n",
       "    }\n",
       "</style>\n",
       "<table border=\"1\" class=\"dataframe\">\n",
       "  <thead>\n",
       "    <tr style=\"text-align: right;\">\n",
       "      <th></th>\n",
       "      <th>count</th>\n",
       "      <th>mean</th>\n",
       "      <th>std</th>\n",
       "      <th>min</th>\n",
       "      <th>25%</th>\n",
       "      <th>50%</th>\n",
       "      <th>75%</th>\n",
       "      <th>max</th>\n",
       "    </tr>\n",
       "  </thead>\n",
       "  <tbody>\n",
       "    <tr>\n",
       "      <th>GRUP_A</th>\n",
       "      <td>20.0</td>\n",
       "      <td>27.40</td>\n",
       "      <td>4.345597</td>\n",
       "      <td>20.0</td>\n",
       "      <td>24.75</td>\n",
       "      <td>27.0</td>\n",
       "      <td>32.00</td>\n",
       "      <td>34.0</td>\n",
       "    </tr>\n",
       "    <tr>\n",
       "      <th>GRUP_B</th>\n",
       "      <td>20.0</td>\n",
       "      <td>30.55</td>\n",
       "      <td>1.904980</td>\n",
       "      <td>28.0</td>\n",
       "      <td>29.00</td>\n",
       "      <td>30.0</td>\n",
       "      <td>32.00</td>\n",
       "      <td>34.0</td>\n",
       "    </tr>\n",
       "    <tr>\n",
       "      <th>GRUP_C</th>\n",
       "      <td>20.0</td>\n",
       "      <td>35.30</td>\n",
       "      <td>5.079370</td>\n",
       "      <td>25.0</td>\n",
       "      <td>31.00</td>\n",
       "      <td>36.5</td>\n",
       "      <td>38.25</td>\n",
       "      <td>44.0</td>\n",
       "    </tr>\n",
       "  </tbody>\n",
       "</table>\n",
       "</div>"
      ],
      "text/plain": [
       "        count   mean       std   min    25%   50%    75%   max\n",
       "GRUP_A   20.0  27.40  4.345597  20.0  24.75  27.0  32.00  34.0\n",
       "GRUP_B   20.0  30.55  1.904980  28.0  29.00  30.0  32.00  34.0\n",
       "GRUP_C   20.0  35.30  5.079370  25.0  31.00  36.5  38.25  44.0"
      ]
     },
     "execution_count": 172,
     "metadata": {},
     "output_type": "execute_result"
    }
   ],
   "source": [
    "ABC.describe().T"
   ]
  },
  {
   "cell_type": "markdown",
   "id": "52541029-7944-459b-8ac9-327bb98fa4b1",
   "metadata": {},
   "source": [
    "### Nonparametrik Hipotez Testi"
   ]
  },
  {
   "cell_type": "code",
   "execution_count": 173,
   "id": "d2703e26-8276-41de-b759-63e15e2f6bc3",
   "metadata": {},
   "outputs": [],
   "source": [
    "from scipy.stats import kruskal"
   ]
  },
  {
   "cell_type": "code",
   "execution_count": 174,
   "id": "1ee65be4-baf9-4a2f-a4cb-782bec45226f",
   "metadata": {},
   "outputs": [
    {
     "data": {
      "text/plain": [
       "KruskalResult(statistic=22.177148961126, pvalue=1.528598013708767e-05)"
      ]
     },
     "execution_count": 174,
     "metadata": {},
     "output_type": "execute_result"
    }
   ],
   "source": [
    "kruskal(ABC[\"GRUP_A\"], ABC[\"GRUP_B\"], ABC[\"GRUP_C\"])"
   ]
  },
  {
   "cell_type": "code",
   "execution_count": 175,
   "id": "ff315e45-a565-49a4-8b06-0e094a3b2df2",
   "metadata": {},
   "outputs": [
    {
     "name": "stdout",
     "output_type": "stream",
     "text": [
      "0.00002\n"
     ]
    }
   ],
   "source": [
    "print('{:.5f}'.format(kruskal(ABC[\"GRUP_A\"], ABC[\"GRUP_B\"], ABC[\"GRUP_C\"])[1]))"
   ]
  },
  {
   "cell_type": "markdown",
   "id": "ca545a06-f5a9-45e2-9b89-42f2c9264593",
   "metadata": {},
   "source": [
    "## Korelasyon Analizi\n",
    "\n",
    "Değişkenler arasındaki ilişki, bu ilişkinin yöne ve şiddeti ile ilgili bilgiler sağlayan istatistiksel bir yöntemdir. \n",
    "\n",
    "Korelasyonun Anlamlılığının Testi\n",
    "\n",
    "$ H_0: p = 0 $ \\\n",
    "$ H_1: p \\neq 0 $\n",
    "\n",
    "### $ r_{xy} = \\frac{\\sum x_i y_i - n \\overline x \\overline y}{\\sqrt {(\\sum x_i^2 - n\\overline x^2)} \\sqrt {(\\sum y_i^2 - n \\overline y^2)}} $\n",
    "\n",
    "### $ t = r \\sqrt \\frac{n-2}{1-r^2} $\n",
    "\n",
    "\n",
    "Varsayımlar\n",
    "\n",
    "İki değişken içinde normallik varyasımı \\\n",
    "Varsayım sağlanıyorsa Pearson Korelasyon Katsayısı \\\n",
    "Varsayım sağlanmıyorsa Spearman Korelasyon Katsayısı "
   ]
  },
  {
   "cell_type": "markdown",
   "id": "93d07fdc-7d84-451e-9102-d7e2fe87432b",
   "metadata": {},
   "source": [
    "### Bahşiş ile Hesap Arasındaki İlişkinin İncelenmesi\n",
    "\n",
    "Bahşiş ile ödenen hesap arasında korelasyon var mı?"
   ]
  },
  {
   "cell_type": "code",
   "execution_count": 176,
   "id": "bc91d30d-9ab0-409a-8f60-3565c3e12efb",
   "metadata": {},
   "outputs": [
    {
     "data": {
      "text/html": [
       "<div>\n",
       "<style scoped>\n",
       "    .dataframe tbody tr th:only-of-type {\n",
       "        vertical-align: middle;\n",
       "    }\n",
       "\n",
       "    .dataframe tbody tr th {\n",
       "        vertical-align: top;\n",
       "    }\n",
       "\n",
       "    .dataframe thead th {\n",
       "        text-align: right;\n",
       "    }\n",
       "</style>\n",
       "<table border=\"1\" class=\"dataframe\">\n",
       "  <thead>\n",
       "    <tr style=\"text-align: right;\">\n",
       "      <th></th>\n",
       "      <th>total_bill</th>\n",
       "      <th>tip</th>\n",
       "      <th>sex</th>\n",
       "      <th>smoker</th>\n",
       "      <th>day</th>\n",
       "      <th>time</th>\n",
       "      <th>size</th>\n",
       "    </tr>\n",
       "  </thead>\n",
       "  <tbody>\n",
       "    <tr>\n",
       "      <th>0</th>\n",
       "      <td>16.99</td>\n",
       "      <td>1.01</td>\n",
       "      <td>Female</td>\n",
       "      <td>No</td>\n",
       "      <td>Sun</td>\n",
       "      <td>Dinner</td>\n",
       "      <td>2</td>\n",
       "    </tr>\n",
       "    <tr>\n",
       "      <th>1</th>\n",
       "      <td>10.34</td>\n",
       "      <td>1.66</td>\n",
       "      <td>Male</td>\n",
       "      <td>No</td>\n",
       "      <td>Sun</td>\n",
       "      <td>Dinner</td>\n",
       "      <td>3</td>\n",
       "    </tr>\n",
       "    <tr>\n",
       "      <th>2</th>\n",
       "      <td>21.01</td>\n",
       "      <td>3.50</td>\n",
       "      <td>Male</td>\n",
       "      <td>No</td>\n",
       "      <td>Sun</td>\n",
       "      <td>Dinner</td>\n",
       "      <td>3</td>\n",
       "    </tr>\n",
       "    <tr>\n",
       "      <th>3</th>\n",
       "      <td>23.68</td>\n",
       "      <td>3.31</td>\n",
       "      <td>Male</td>\n",
       "      <td>No</td>\n",
       "      <td>Sun</td>\n",
       "      <td>Dinner</td>\n",
       "      <td>2</td>\n",
       "    </tr>\n",
       "    <tr>\n",
       "      <th>4</th>\n",
       "      <td>24.59</td>\n",
       "      <td>3.61</td>\n",
       "      <td>Female</td>\n",
       "      <td>No</td>\n",
       "      <td>Sun</td>\n",
       "      <td>Dinner</td>\n",
       "      <td>4</td>\n",
       "    </tr>\n",
       "  </tbody>\n",
       "</table>\n",
       "</div>"
      ],
      "text/plain": [
       "   total_bill   tip     sex smoker  day    time  size\n",
       "0       16.99  1.01  Female     No  Sun  Dinner     2\n",
       "1       10.34  1.66    Male     No  Sun  Dinner     3\n",
       "2       21.01  3.50    Male     No  Sun  Dinner     3\n",
       "3       23.68  3.31    Male     No  Sun  Dinner     2\n",
       "4       24.59  3.61  Female     No  Sun  Dinner     4"
      ]
     },
     "execution_count": 176,
     "metadata": {},
     "output_type": "execute_result"
    }
   ],
   "source": [
    "import seaborn as sns\n",
    "tips = sns.load_dataset('tips')\n",
    "df = tips.copy()\n",
    "df.head()"
   ]
  },
  {
   "cell_type": "code",
   "execution_count": 177,
   "id": "0a163c26-22ff-4222-9f8f-2cd2c3c7e885",
   "metadata": {},
   "outputs": [],
   "source": [
    "df[\"total_bill\"] = df[\"total_bill\"] - df[\"tip\"] "
   ]
  },
  {
   "cell_type": "code",
   "execution_count": 178,
   "id": "7121394f-7e5d-45d8-96cf-fdd25bbd5f10",
   "metadata": {},
   "outputs": [
    {
     "data": {
      "text/html": [
       "<div>\n",
       "<style scoped>\n",
       "    .dataframe tbody tr th:only-of-type {\n",
       "        vertical-align: middle;\n",
       "    }\n",
       "\n",
       "    .dataframe tbody tr th {\n",
       "        vertical-align: top;\n",
       "    }\n",
       "\n",
       "    .dataframe thead th {\n",
       "        text-align: right;\n",
       "    }\n",
       "</style>\n",
       "<table border=\"1\" class=\"dataframe\">\n",
       "  <thead>\n",
       "    <tr style=\"text-align: right;\">\n",
       "      <th></th>\n",
       "      <th>total_bill</th>\n",
       "      <th>tip</th>\n",
       "      <th>sex</th>\n",
       "      <th>smoker</th>\n",
       "      <th>day</th>\n",
       "      <th>time</th>\n",
       "      <th>size</th>\n",
       "    </tr>\n",
       "  </thead>\n",
       "  <tbody>\n",
       "    <tr>\n",
       "      <th>0</th>\n",
       "      <td>15.98</td>\n",
       "      <td>1.01</td>\n",
       "      <td>Female</td>\n",
       "      <td>No</td>\n",
       "      <td>Sun</td>\n",
       "      <td>Dinner</td>\n",
       "      <td>2</td>\n",
       "    </tr>\n",
       "    <tr>\n",
       "      <th>1</th>\n",
       "      <td>8.68</td>\n",
       "      <td>1.66</td>\n",
       "      <td>Male</td>\n",
       "      <td>No</td>\n",
       "      <td>Sun</td>\n",
       "      <td>Dinner</td>\n",
       "      <td>3</td>\n",
       "    </tr>\n",
       "    <tr>\n",
       "      <th>2</th>\n",
       "      <td>17.51</td>\n",
       "      <td>3.50</td>\n",
       "      <td>Male</td>\n",
       "      <td>No</td>\n",
       "      <td>Sun</td>\n",
       "      <td>Dinner</td>\n",
       "      <td>3</td>\n",
       "    </tr>\n",
       "    <tr>\n",
       "      <th>3</th>\n",
       "      <td>20.37</td>\n",
       "      <td>3.31</td>\n",
       "      <td>Male</td>\n",
       "      <td>No</td>\n",
       "      <td>Sun</td>\n",
       "      <td>Dinner</td>\n",
       "      <td>2</td>\n",
       "    </tr>\n",
       "    <tr>\n",
       "      <th>4</th>\n",
       "      <td>20.98</td>\n",
       "      <td>3.61</td>\n",
       "      <td>Female</td>\n",
       "      <td>No</td>\n",
       "      <td>Sun</td>\n",
       "      <td>Dinner</td>\n",
       "      <td>4</td>\n",
       "    </tr>\n",
       "  </tbody>\n",
       "</table>\n",
       "</div>"
      ],
      "text/plain": [
       "   total_bill   tip     sex smoker  day    time  size\n",
       "0       15.98  1.01  Female     No  Sun  Dinner     2\n",
       "1        8.68  1.66    Male     No  Sun  Dinner     3\n",
       "2       17.51  3.50    Male     No  Sun  Dinner     3\n",
       "3       20.37  3.31    Male     No  Sun  Dinner     2\n",
       "4       20.98  3.61  Female     No  Sun  Dinner     4"
      ]
     },
     "execution_count": 178,
     "metadata": {},
     "output_type": "execute_result"
    }
   ],
   "source": [
    "df.head()"
   ]
  },
  {
   "cell_type": "code",
   "execution_count": 181,
   "id": "c91d7584-65c7-47dc-8655-14ddbacccf1c",
   "metadata": {},
   "outputs": [
    {
     "data": {
      "image/png": "[encoded data removed]",
      "text/plain": [
       "<Figure size 640x480 with 1 Axes>"
      ]
     },
     "metadata": {},
     "output_type": "display_data"
    }
   ],
   "source": [
    "import pandas as pd\n",
    "df.plot.scatter(\"tip\", \"total_bill\");"
   ]
  },
  {
   "cell_type": "markdown",
   "id": "42cc90a3-3c96-42f3-8403-eefb7ecd0c67",
   "metadata": {},
   "source": [
    "#### Varsayım Kontrolü"
   ]
  },
  {
   "cell_type": "code",
   "execution_count": 184,
   "id": "b2e56471-cf12-4777-a4a2-9fd79fd7a6d7",
   "metadata": {},
   "outputs": [],
   "source": [
    "from scipy.stats import shapiro"
   ]
  },
  {
   "cell_type": "code",
   "execution_count": 185,
   "id": "fdbd9dde-523e-446e-9bbe-e54c711be5ba",
   "metadata": {},
   "outputs": [
    {
     "name": "stdout",
     "output_type": "stream",
     "text": [
      "Test İstatistiği = -6.5139, p-değeri = 0.0000\n",
      "Test İstatistiği = -6.5139, p-değeri = 0.0000\n"
     ]
    }
   ],
   "source": [
    "test_istatistigi, pvalue = shapiro(df[\"tip\"])\n",
    "print('Test İstatistiği = %.4f, p-değeri = %.4f' % (test_istatistiği, pvalue))\n",
    "\n",
    "test_istatistigi, pvalue = shapiro(df[\"total_bill\"])\n",
    "print('Test İstatistiği = %.4f, p-değeri = %.4f' % (test_istatistiği, pvalue))"
   ]
  },
  {
   "cell_type": "markdown",
   "id": "f12e07eb-b619-4506-9512-4875f103cfd7",
   "metadata": {},
   "source": [
    "### Hipotez Testi \n",
    "\n",
    "#### Korelasyon Katsayısı\n"
   ]
  },
  {
   "cell_type": "code",
   "execution_count": 186,
   "id": "ded631de-598e-461a-ad41-fb66dcc21ace",
   "metadata": {},
   "outputs": [
    {
     "data": {
      "text/plain": [
       "0.5766634471096374"
      ]
     },
     "execution_count": 186,
     "metadata": {},
     "output_type": "execute_result"
    }
   ],
   "source": [
    "df[\"tip\"].corr(df[\"total_bill\"]) "
   ]
  },
  {
   "cell_type": "code",
   "execution_count": 187,
   "id": "e8af99f9-5f3b-44ea-abb3-48dae2cfb315",
   "metadata": {},
   "outputs": [
    {
     "data": {
      "text/plain": [
       "0.593691939408997"
      ]
     },
     "execution_count": 187,
     "metadata": {},
     "output_type": "execute_result"
    }
   ],
   "source": [
    "df[\"tip\"].corr(df[\"total_bill\"], method = \"spearman\") "
   ]
  },
  {
   "cell_type": "markdown",
   "id": "cfe5f04f-13b9-4e11-9673-42c4086b0ca1",
   "metadata": {},
   "source": [
    "#### Korelasyon Anlamlılığının Testi"
   ]
  },
  {
   "cell_type": "code",
   "execution_count": 192,
   "id": "dc472d5a-5cc8-4803-8abc-ebd7bafde3d0",
   "metadata": {},
   "outputs": [],
   "source": [
    "from scipy.stats import pearsonr"
   ]
  },
  {
   "cell_type": "code",
   "execution_count": 197,
   "id": "851e7c66-81b6-4413-aa4b-19f1639e06bd",
   "metadata": {},
   "outputs": [
    {
     "name": "stdout",
     "output_type": "stream",
     "text": [
      "Korelasyon Katsayısı = -6.5139, p-değeri = 0.0000\n"
     ]
    }
   ],
   "source": [
    "test_istatistigi, pvalue = pearsonr(df[\"tip\"], df[\"total_bill\"])\n",
    "print('Korelasyon Katsayısı = %.4f, p-değeri = %.4f' % (test_istatistiği, pvalue))"
   ]
  },
  {
   "cell_type": "markdown",
   "id": "6b7d738c-51de-46ad-a28b-29f1808c4a0d",
   "metadata": {},
   "source": [
    "### Nonparametrik Hipotez Testi"
   ]
  },
  {
   "cell_type": "code",
   "execution_count": 195,
   "id": "bf80767a-a6b3-45eb-955c-f5539694dfd6",
   "metadata": {},
   "outputs": [
    {
     "data": {
      "text/plain": [
       "SpearmanrResult(correlation=0.593691939408997, pvalue=1.2452285137560276e-24)"
      ]
     },
     "execution_count": 195,
     "metadata": {},
     "output_type": "execute_result"
    }
   ],
   "source": [
    "stats.spearmanr(df[\"tip\"], df[\"total_bill\"])"
   ]
  },
  {
   "cell_type": "code",
   "execution_count": 198,
   "id": "551b5906-65c2-4234-9c5b-45f215ffde73",
   "metadata": {},
   "outputs": [
    {
     "name": "stdout",
     "output_type": "stream",
     "text": [
      "Korelasyon Katsayısı = -6.5139, p-değeri = 0.0000\n"
     ]
    }
   ],
   "source": [
    "test_istatistigi, pvalue = stats.spearmanr(df[\"tip\"], df[\"total_bill\"])\n",
    "print('Korelasyon Katsayısı = %.4f, p-değeri = %.4f' % (test_istatistiği, pvalue))"
   ]
  },
  {
   "cell_type": "markdown",
   "id": "36a9cbb4-786c-45a9-a8c2-917d7ee3a533",
   "metadata": {},
   "source": [
    "Sonuç: Değişkenler arasında anlamlı bir fark vardır. "
   ]
  },
  {
   "cell_type": "code",
   "execution_count": 200,
   "id": "77eb0607-452c-4bfe-94b6-fd789086d0b0",
   "metadata": {},
   "outputs": [
    {
     "name": "stdout",
     "output_type": "stream",
     "text": [
      "Korelasyon Katsayısı = -6.5139, p-değeri = 0.0000\n"
     ]
    }
   ],
   "source": [
    "test_istatistigi, pvalue = stats.kendalltau(df[\"tip\"], df[\"total_bill\"])\n",
    "print('Korelasyon Katsayısı = %.4f, p-değeri = %.4f' % (test_istatistiği, pvalue))"
   ]
  }
 ],
 "metadata": {
  "kernelspec": {
   "display_name": "Python 3 (ipykernel)",
   "language": "python",
   "name": "python3"
  },
  "language_info": {
   "codemirror_mode": {
    "name": "ipython",
    "version": 3
   },
   "file_extension": ".py",
   "mimetype": "text/x-python",
   "name": "python",
   "nbconvert_exporter": "python",
   "pygments_lexer": "ipython3",
   "version": "3.9.13"
  }
 },
 "nbformat": 4,
 "nbformat_minor": 5
}
